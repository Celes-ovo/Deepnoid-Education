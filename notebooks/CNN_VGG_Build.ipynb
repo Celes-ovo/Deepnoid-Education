{
  "nbformat": 4,
  "nbformat_minor": 0,
  "metadata": {
    "kernelspec": {
      "display_name": "Python 3",
      "language": "python",
      "name": "python3"
    },
    "language_info": {
      "codemirror_mode": {
        "name": "ipython",
        "version": 3
      },
      "file_extension": ".py",
      "mimetype": "text/x-python",
      "name": "python",
      "nbconvert_exporter": "python",
      "pygments_lexer": "ipython3",
      "version": "3.7.6"
    },
    "colab": {
      "name": "CNN_VGG_Build.ipynb",
      "provenance": [],
      "include_colab_link": true
    }
  },
  "cells": [
    {
      "cell_type": "markdown",
      "metadata": {
        "id": "view-in-github",
        "colab_type": "text"
      },
      "source": [
        "<a href=\"https://colab.research.google.com/github/Pulsar-kkaturi/Deepnoid-Education/blob/master/notebooks/CNN_VGG_Build.ipynb\" target=\"_parent\"><img src=\"https://colab.research.google.com/assets/colab-badge.svg\" alt=\"Open In Colab\"/></a>"
      ]
    },
    {
      "cell_type": "markdown",
      "metadata": {
        "id": "3fsLexN5mWmf"
      },
      "source": [
        "# NEURAL NETWORK BUILD"
      ]
    },
    {
      "cell_type": "markdown",
      "metadata": {
        "id": "cJ-lxCOpmWmj"
      },
      "source": [
        "# 1. LIbrary Import"
      ]
    },
    {
      "cell_type": "code",
      "metadata": {
        "id": "PMUn1R-5mWmj"
      },
      "source": [
        "import os\n",
        "import numpy as np\n",
        "import matplotlib\n",
        "from matplotlib import pyplot as plt\n",
        "from matplotlib.ticker import MultipleLocator\n",
        "import pandas as pd\n",
        "import csv\n",
        "import shutil\n",
        "import json\n",
        "from sklearn import metrics as skmet\n",
        "from skimage import morphology\n",
        "from skimage import measure\n",
        "from skimage import exposure\n",
        "\n",
        "### Tensorflow 2.0 ###\n",
        "import tensorflow as tf\n",
        "from tensorflow import keras\n",
        "from tensorflow.keras.models import Sequential, Model\n",
        "from tensorflow.keras import Input\n",
        "from tensorflow.keras import layers\n",
        "from tensorflow.keras import models\n",
        "from tensorflow.keras.preprocessing import image\n",
        "from tensorflow.keras.preprocessing.image import ImageDataGenerator\n",
        "from tensorflow.keras import losses\n",
        "from tensorflow.keras import optimizers\n",
        "from tensorflow.keras import metrics\n",
        "from tensorflow.keras import regularizers\n",
        "from tensorflow.keras import utils\n",
        "from tensorflow.keras.callbacks import ModelCheckpoint, LearningRateScheduler\n",
        "from tensorflow.keras import backend as K"
      ],
      "execution_count": null,
      "outputs": []
    },
    {
      "cell_type": "markdown",
      "metadata": {
        "id": "eyxOHppVmWmk"
      },
      "source": [
        "# 2. Module Fuction"
      ]
    },
    {
      "cell_type": "markdown",
      "metadata": {
        "id": "w9nTwrpImWmk"
      },
      "source": [
        "* keras application VGG16"
      ]
    },
    {
      "cell_type": "code",
      "metadata": {
        "id": "Jw7cnbF6mWmk",
        "outputId": "52fb543f-d942-4b79-e669-957618f433bc"
      },
      "source": [
        "from tensorflow.keras.applications import VGG16\n",
        "model = VGG16(weights='imagenet', include_top=False, input_shape=(32, 32, 3))\n",
        "model.summary()"
      ],
      "execution_count": null,
      "outputs": [
        {
          "output_type": "stream",
          "text": [
            "Model: \"vgg16\"\n",
            "_________________________________________________________________\n",
            "Layer (type)                 Output Shape              Param #   \n",
            "=================================================================\n",
            "input_1 (InputLayer)         [(None, 32, 32, 3)]       0         \n",
            "_________________________________________________________________\n",
            "block1_conv1 (Conv2D)        (None, 32, 32, 64)        1792      \n",
            "_________________________________________________________________\n",
            "block1_conv2 (Conv2D)        (None, 32, 32, 64)        36928     \n",
            "_________________________________________________________________\n",
            "block1_pool (MaxPooling2D)   (None, 16, 16, 64)        0         \n",
            "_________________________________________________________________\n",
            "block2_conv1 (Conv2D)        (None, 16, 16, 128)       73856     \n",
            "_________________________________________________________________\n",
            "block2_conv2 (Conv2D)        (None, 16, 16, 128)       147584    \n",
            "_________________________________________________________________\n",
            "block2_pool (MaxPooling2D)   (None, 8, 8, 128)         0         \n",
            "_________________________________________________________________\n",
            "block3_conv1 (Conv2D)        (None, 8, 8, 256)         295168    \n",
            "_________________________________________________________________\n",
            "block3_conv2 (Conv2D)        (None, 8, 8, 256)         590080    \n",
            "_________________________________________________________________\n",
            "block3_conv3 (Conv2D)        (None, 8, 8, 256)         590080    \n",
            "_________________________________________________________________\n",
            "block3_pool (MaxPooling2D)   (None, 4, 4, 256)         0         \n",
            "_________________________________________________________________\n",
            "block4_conv1 (Conv2D)        (None, 4, 4, 512)         1180160   \n",
            "_________________________________________________________________\n",
            "block4_conv2 (Conv2D)        (None, 4, 4, 512)         2359808   \n",
            "_________________________________________________________________\n",
            "block4_conv3 (Conv2D)        (None, 4, 4, 512)         2359808   \n",
            "_________________________________________________________________\n",
            "block4_pool (MaxPooling2D)   (None, 2, 2, 512)         0         \n",
            "_________________________________________________________________\n",
            "block5_conv1 (Conv2D)        (None, 2, 2, 512)         2359808   \n",
            "_________________________________________________________________\n",
            "block5_conv2 (Conv2D)        (None, 2, 2, 512)         2359808   \n",
            "_________________________________________________________________\n",
            "block5_conv3 (Conv2D)        (None, 2, 2, 512)         2359808   \n",
            "_________________________________________________________________\n",
            "block5_pool (MaxPooling2D)   (None, 1, 1, 512)         0         \n",
            "=================================================================\n",
            "Total params: 14,714,688\n",
            "Trainable params: 14,714,688\n",
            "Non-trainable params: 0\n",
            "_________________________________________________________________\n"
          ],
          "name": "stdout"
        }
      ]
    },
    {
      "cell_type": "markdown",
      "metadata": {
        "id": "5JQNlRBPmWml"
      },
      "source": [
        "* Block"
      ]
    },
    {
      "cell_type": "code",
      "metadata": {
        "id": "8PsFuh3pmWml"
      },
      "source": [
        "class ConvBlock:\n",
        "    def conv_block_2d(self, lr_conv, lr_num, par_list):\n",
        "        # parameter\n",
        "        conv_size = par_list[0]\n",
        "        conv_str = par_list[1]\n",
        "        conv_act = par_list[2]\n",
        "        pool_str = par_list[3]\n",
        "        reg_weight = None\n",
        "        # code\n",
        "        for i in range(lr_num):\n",
        "            lr_conv = layers.Conv2D(conv_size, conv_str, activation=conv_act, padding='same', \n",
        "                                    kernel_initializer='he_normal')(lr_conv)\n",
        "        lr_batn = layers.BatchNormalization(axis=-1)(lr_conv)\n",
        "        lr_pool = layers.MaxPooling2D(pool_size=pool_str)(lr_batn)\n",
        "        return lr_pool\n",
        "    def conv_block_3d(self, lr_input, lr_num, par_list):\n",
        "        # parameter\n",
        "        conv_size = par_list[0]\n",
        "        conv_str = par_list[1]\n",
        "        conv_act = par_list[2]\n",
        "        pool_str = par_list[3]\n",
        "        drop_rate = par_list[4]\n",
        "        # code\n",
        "        for i in range(lr_num):\n",
        "            lr_conv = layers.Conv3D(conv_size, conv_str, activation=conv_act,\n",
        "                                    padding='same', kernel_initializer='he_normal')(lr_input)\n",
        "        lr_batn = layers.BatchNormalization(axis=-1)(lr_conv)\n",
        "        lr_pool = layers.MaxPooling3D(pool_size=(pool_str, pool_str, pool_str))(lr_batn)\n",
        "        return lr_pool\n",
        "    def output_block(self, lr_dense, block_num, flat_count, reg_weight, act_func, drop_rate):\n",
        "        lr_dense = layers.Flatten()(lr_dense)\n",
        "        lr_dense = layers.Dropout(drop_rate)(lr_dense)\n",
        "        for i in range(block_num):\n",
        "            lr_dense = layers.Dense(flat_count[i], kernel_regularizer=reg_weight,\n",
        "                                    activation=act_func)(lr_dense)\n",
        "#             lr_dense = layers.BatchNormalization(axis=-1)(lr_dense)\n",
        "#             lr_dense = layers.Activation(act_func)(lr_dense)\n",
        "            lr_dense = layers.Dropout(drop_rate)(lr_dense)\n",
        "        return lr_dense\n",
        "    \n",
        "cn = ConvBlock()"
      ],
      "execution_count": null,
      "outputs": []
    },
    {
      "cell_type": "code",
      "metadata": {
        "id": "8nkrFK5jmWmm"
      },
      "source": [
        "def VGG16_2D(par_dic):\n",
        "    # parameters\n",
        "    input_size = par_dic['input_size']\n",
        "    drop_out = par_dic['drop_out']\n",
        "    reg_weight = par_dic['reg_weight']\n",
        "    flat_count = par_dic['flat_count']\n",
        "    class_count = par_dic['class_count']\n",
        "    conv_act = par_dic['conv_act']\n",
        "    flat_act = par_dic['flat_act']\n",
        "    output_act = par_dic['output_act']\n",
        "    conv_str = par_dic['conv_str']\n",
        "    pool_str = par_dic['pool_str']\n",
        "    dens_num = par_dic['dens_num']\n",
        "\n",
        "    # code block\n",
        "    inputs = Input(shape=(input_size, input_size, 1))\n",
        "    block1 = cn.conv_block_2d(inputs, 2, [64, conv_str, conv_act, pool_str, reg_weight])\n",
        "    block2 = cn.conv_block_2d(block1, 2, [128, conv_str, conv_act, pool_str, reg_weight])\n",
        "    block3 = cn.conv_block_2d(block2, 3, [256, conv_str, conv_act, pool_str, reg_weight])\n",
        "    block4 = cn.conv_block_2d(block3, 3, [512, conv_str, conv_act, pool_str, reg_weight])\n",
        "    block5 = cn.conv_block_2d(block4, 3, [512, conv_str, conv_act, pool_str, reg_weight])\n",
        "    dens = cn.output_block(block5, dens_num, flat_count, reg_weight, flat_act, drop_out)\n",
        "    outputs = layers.Dense(class_count, activation=output_act)(dens)\n",
        "    model = Model(inputs, outputs)\n",
        "    return model"
      ],
      "execution_count": null,
      "outputs": []
    },
    {
      "cell_type": "code",
      "metadata": {
        "id": "sOi3RDaomWmm"
      },
      "source": [
        "def VGG16_3D(input_size, block_num, drop_out, flat_count, class_count, conv_act, flat_act, output_act,\n",
        "           conv_str, pool_str):\n",
        "\n",
        "    inputs = Input(shape=(input_size, input_size, input_size, 1))\n",
        "    block1 = cn.conv_block_3d(inputs, 2, [64, conv_str, conv_act, pool_str, drop_out])\n",
        "    block2 = cn.conv_block_3d(block1, 2, [128, conv_str, conv_act, pool_str, drop_out])\n",
        "    block3 = cn.conv_block_3d(block2, 3, [256, conv_str, conv_act, pool_str, drop_out])\n",
        "    block4 = cn.conv_block_3d(block3, 3, [512, conv_str, conv_act, pool_str, drop_out])\n",
        "    block5 = cn.conv_block_3d(block4, 3, [512, conv_str, conv_act, pool_str, drop_out])\n",
        "    flat = layers.Flatten()(block5)\n",
        "    drop1 = layers.Dropout(drop_out)(flat)\n",
        "    dens = layers.Dense(flat_count, activation=flat_act)(drop1)\n",
        "    drop2 = layers.Dropout(drop_out)(dens)\n",
        "    outputs = layers.Dense(class_count, activation=output_act)(drop2)\n",
        "    model = Model(inputs, outputs)\n",
        "    return model"
      ],
      "execution_count": null,
      "outputs": []
    },
    {
      "cell_type": "markdown",
      "metadata": {
        "id": "dvmjT-BDmWmm"
      },
      "source": [
        "# 3. Dataset"
      ]
    },
    {
      "cell_type": "code",
      "metadata": {
        "id": "h21VXXuImWmm"
      },
      "source": [
        "(x_train, y_train), (x_test, y_test)=keras.datasets.mnist.load_data(path='minist.npz')"
      ],
      "execution_count": null,
      "outputs": []
    },
    {
      "cell_type": "code",
      "metadata": {
        "id": "HZhc0G0emWmn",
        "outputId": "d6154e06-b0e2-4d17-85bd-18850fdf40f2"
      },
      "source": [
        "print(x_train.shape, y_train.shape)"
      ],
      "execution_count": null,
      "outputs": [
        {
          "output_type": "stream",
          "text": [
            "(60000, 28, 28) (60000,)\n"
          ],
          "name": "stdout"
        }
      ]
    },
    {
      "cell_type": "markdown",
      "metadata": {
        "id": "-7YSw3QkmWmn"
      },
      "source": [
        "# 3.1 2D dataset"
      ]
    },
    {
      "cell_type": "code",
      "metadata": {
        "id": "T5iscUbymWmn",
        "outputId": "dc31339e-f4e4-4599-f5c8-a84ec2fe518d"
      },
      "source": [
        "x_train_list = []\n",
        "x_test_list = []\n",
        "for i, i_ in enumerate(x_train[:50000]):\n",
        "    arr = np.zeros(shape=(32, 32))\n",
        "    arr[:28,:28] = x_train[i]\n",
        "    x_train_list.append(arr)\n",
        "for i, i_ in enumerate(x_test[:5000]):\n",
        "    arr = np.zeros(shape=(32, 32))\n",
        "    arr[:28,:28] = x_test[i]\n",
        "    x_test_list.append(arr)\n",
        "\n",
        "x_train1 = np.expand_dims(np.array(x_train_list), axis=-1)\n",
        "x_test1 = np.expand_dims(np.array(x_test_list), axis=-1)\n",
        "print(x_train1.shape, x_test1.shape)"
      ],
      "execution_count": null,
      "outputs": [
        {
          "output_type": "stream",
          "text": [
            "(50000, 32, 32, 1) (5000, 32, 32, 1)\n"
          ],
          "name": "stdout"
        }
      ]
    },
    {
      "cell_type": "code",
      "metadata": {
        "id": "hYrbF26lmWmn",
        "outputId": "3facc59f-553a-4dae-d06a-d6b4bd24f5e5"
      },
      "source": [
        "y_train_list = []\n",
        "y_test_list = []\n",
        "for i, i_ in enumerate(y_train[:50000]):\n",
        "    zero = [0]*10\n",
        "    zero[i_] = 1\n",
        "    y_train_list.append(zero)\n",
        "\n",
        "for i, i_ in enumerate(y_test[:5000]):\n",
        "    zero = [0]*10\n",
        "    zero[i_] = 1\n",
        "    y_test_list.append(zero)    \n",
        "    \n",
        "y_train1 = np.array(y_train_list)\n",
        "y_test1 = np.array(y_test_list)\n",
        "print(y_train1.shape, y_test1.shape)"
      ],
      "execution_count": null,
      "outputs": [
        {
          "output_type": "stream",
          "text": [
            "(50000, 10) (5000, 10)\n"
          ],
          "name": "stdout"
        }
      ]
    },
    {
      "cell_type": "code",
      "metadata": {
        "id": "PDbfzKwImWmo",
        "outputId": "bfc9054e-3601-4826-ab27-2ad77704d059"
      },
      "source": [
        "plt.figure(figsize=(10,10))\n",
        "for i in range(3):\n",
        "    plt.subplot(1,3,i+1)\n",
        "    plt.imshow(x_train1[i][...,0], cmap='gray')\n",
        "    plt.title('Class = {}'.format(y_train[i]))"
      ],
      "execution_count": null,
      "outputs": [
        {
          "output_type": "display_data",
          "data": {
            "image/png": "[encoded data removed]",
            "text/plain": [
              "<Figure size 720x720 with 3 Axes>"
            ]
          },
          "metadata": {
            "tags": [],
            "needs_background": "light"
          }
        }
      ]
    },
    {
      "cell_type": "markdown",
      "metadata": {
        "id": "RNvCkU-rmWmo"
      },
      "source": [
        "## 3.2 3D dataset"
      ]
    },
    {
      "cell_type": "code",
      "metadata": {
        "id": "S7_FSBYamWmo",
        "outputId": "bf4a9bdf-0ad7-4a17-a32b-2925158c8861"
      },
      "source": [
        "x_train_list = []\n",
        "y_train_list = []\n",
        "x_test_list = []\n",
        "y_test_list = []\n",
        "for i in range(1200):\n",
        "    zero = np.zeros(shape=(32,32,32))\n",
        "    ones = np.ones(shape=(16,16,16))\n",
        "    ran = int(np.random.randint(10, size=1)-5)\n",
        "    if 0 <= i < 400:\n",
        "        zero[:,:,:] = (ran*10) + 150\n",
        "        x_train_list.append(zero)\n",
        "        y_train_list.append([1,0,0])\n",
        "    elif 400 <= i < 800:\n",
        "        zero[8+ran:24+ran,8+ran:24+ran,8+ran:24+ran] = (ran*10) + 200\n",
        "        x_train_list.append(zero)\n",
        "        y_train_list.append([0,1,0])\n",
        "    elif 800 <= i < 1200:\n",
        "        for j in range(32):\n",
        "            for k in range(32):\n",
        "                for l in range(32):\n",
        "                    if ((j-16+ran)**2) + ((k-16+ran)**2) + ((l-16+ran)**2) < 100:\n",
        "                        zero[j,k,l] = (ran*10) + 200\n",
        "        x_train_list.append(zero)\n",
        "        y_train_list.append([0,0,1])\n",
        "\n",
        "for i in range(600):\n",
        "    zero = np.zeros(shape=(32,32,32))\n",
        "    ones = np.ones(shape=(16,16,16))\n",
        "    ran = int(np.random.randint(10, size=1)-5)\n",
        "    if 0 <= i < 200:\n",
        "        zero[:,:,:] = (ran*10) + 150\n",
        "        x_test_list.append(zero)\n",
        "        y_test_list.append([1,0,0])\n",
        "    elif 200 <= i < 400:\n",
        "        zero[8+ran:24+ran,8+ran:24+ran,8+ran:24+ran] = (ran*10) + 200\n",
        "        x_test_list.append(zero)\n",
        "        y_test_list.append([0,1,0])\n",
        "    elif 400 <= i < 600:\n",
        "        for j in range(32):\n",
        "            for k in range(32):\n",
        "                for l in range(32):\n",
        "                    if ((j-16+ran)**2) + ((k-16+ran)**2) + ((l-16+ran)**2) < 100:\n",
        "                        zero[j,k,l] = (ran*10) + 200\n",
        "        x_test_list.append(zero)\n",
        "        y_test_list.append([0,0,1])\n",
        "\n",
        "x3_train1 = np.expand_dims(np.array(x_train_list), axis=-1)\n",
        "x3_test1 = np.expand_dims(np.array(x_test_list), axis=-1)\n",
        "y3_train1 = np.array(y_train_list)\n",
        "y3_test1 = np.array(y_test_list)\n",
        "print(x3_train1.shape, x3_test1.shape)\n",
        "print(y3_train1.shape, y3_test1.shape)"
      ],
      "execution_count": null,
      "outputs": [
        {
          "output_type": "stream",
          "text": [
            "(1200, 32, 32, 32, 1) (600, 32, 32, 32, 1)\n",
            "(1200, 3) (600, 3)\n"
          ],
          "name": "stdout"
        }
      ]
    },
    {
      "cell_type": "code",
      "metadata": {
        "id": "Mp8apIbbmWmp",
        "outputId": "24902926-5ce3-4f79-cea4-ad69aadc2c92"
      },
      "source": [
        "plt.figure(figsize=(10,10))\n",
        "for i in range(3):\n",
        "    for j in range(3):\n",
        "        plt.subplot(3,3, (3*i)+j+1)\n",
        "        plt.imshow(x3_train1[(i*400)+(j*100)][(8*j)+8,...,0], cmap='gray')\n",
        "        plt.title('Class = {}'.format(str(y3_train1[(i*400)+(j*100)])))\n"
      ],
      "execution_count": null,
      "outputs": [
        {
          "output_type": "display_data",
          "data": {
            "image/png": "[encoded data removed]",
            "text/plain": [
              "<Figure size 720x720 with 9 Axes>"
            ]
          },
          "metadata": {
            "tags": [],
            "needs_background": "light"
          }
        }
      ]
    },
    {
      "cell_type": "markdown",
      "metadata": {
        "id": "MWCfiABkmWmp"
      },
      "source": [
        "# 3. Model Build"
      ]
    },
    {
      "cell_type": "markdown",
      "metadata": {
        "id": "ck3Ecxs8mWmp"
      },
      "source": [
        "## 3.1 2D"
      ]
    },
    {
      "cell_type": "code",
      "metadata": {
        "id": "6RyJRUzAmWmp"
      },
      "source": [
        "train_param_set = {'cls_vgg': {'model_name': 'VGG19',\n",
        "                               'array_dim': '2d',\n",
        "                               'split_rate': 0.2,\n",
        "                               'k_fold': 5,\n",
        "                               'aug_rate': {'benign': 4, 'malignant': 4},\n",
        "                               'batch_size': 50,\n",
        "                               'epoch': 100,\n",
        "                               'gpu_vision': '0,1,2,3',\n",
        "                               'loss': losses.CategoricalCrossentropy(),\n",
        "                               'learning_rate': '1e-4',\n",
        "                               'optimizer': optimizers.Adam(lr=1e-4),\n",
        "                               'metric': ['accuracy'],\n",
        "                               'threshold': 0.5,\n",
        "                               'ensemble_mode': 'soft',\n",
        "                               'positive_idx': 0,\n",
        "                               'smode_in': None,\n",
        "                               'smode_out': 'pred',\n",
        "                               'sample_mode': False,\n",
        "                               'step_list': {'hold_out': [1, 2, 3, 4, 5, 6],\n",
        "                                             'k_fold': [1, 2.1, 2.2, 2.3, 2.4, 3, 4, 5]}}}\n",
        "\n",
        "network_param_set = {'vgg': {'input_size': 32,\n",
        "                             'block_num': 1,\n",
        "                             'layer_num': 1,\n",
        "                             'drop_out': 0.5,\n",
        "                             'reg_weight': regularizers.l2(1e-3),\n",
        "                             'dens_num': 2,\n",
        "                             'flat_count': [1000, 500],\n",
        "                             'class_count': 10,\n",
        "                             'conv_act': 'relu',\n",
        "                             'flat_act': 'relu',\n",
        "                             'output_act': 'softmax',\n",
        "                             'conv_str': 3,\n",
        "                             'pool_str': 2}}"
      ],
      "execution_count": null,
      "outputs": []
    },
    {
      "cell_type": "code",
      "metadata": {
        "scrolled": true,
        "id": "yRcrJ1-RmWmp",
        "outputId": "425691f5-06b2-4583-aef5-af26b9279575"
      },
      "source": [
        "model = VGG16_2D(network_param_set['vgg'])\n",
        "model.summary()"
      ],
      "execution_count": null,
      "outputs": [
        {
          "output_type": "stream",
          "text": [
            "Model: \"model_2\"\n",
            "_________________________________________________________________\n",
            "Layer (type)                 Output Shape              Param #   \n",
            "=================================================================\n",
            "input_4 (InputLayer)         [(None, 32, 32, 1)]       0         \n",
            "_________________________________________________________________\n",
            "conv2d_13 (Conv2D)           (None, 32, 32, 64)        640       \n",
            "_________________________________________________________________\n",
            "conv2d_14 (Conv2D)           (None, 32, 32, 64)        36928     \n",
            "_________________________________________________________________\n",
            "batch_normalization_10 (Batc (None, 32, 32, 64)        256       \n",
            "_________________________________________________________________\n",
            "max_pooling2d_5 (MaxPooling2 (None, 16, 16, 64)        0         \n",
            "_________________________________________________________________\n",
            "conv2d_15 (Conv2D)           (None, 16, 16, 128)       73856     \n",
            "_________________________________________________________________\n",
            "conv2d_16 (Conv2D)           (None, 16, 16, 128)       147584    \n",
            "_________________________________________________________________\n",
            "batch_normalization_11 (Batc (None, 16, 16, 128)       512       \n",
            "_________________________________________________________________\n",
            "max_pooling2d_6 (MaxPooling2 (None, 8, 8, 128)         0         \n",
            "_________________________________________________________________\n",
            "conv2d_17 (Conv2D)           (None, 8, 8, 256)         295168    \n",
            "_________________________________________________________________\n",
            "conv2d_18 (Conv2D)           (None, 8, 8, 256)         590080    \n",
            "_________________________________________________________________\n",
            "conv2d_19 (Conv2D)           (None, 8, 8, 256)         590080    \n",
            "_________________________________________________________________\n",
            "batch_normalization_12 (Batc (None, 8, 8, 256)         1024      \n",
            "_________________________________________________________________\n",
            "max_pooling2d_7 (MaxPooling2 (None, 4, 4, 256)         0         \n",
            "_________________________________________________________________\n",
            "conv2d_20 (Conv2D)           (None, 4, 4, 512)         1180160   \n",
            "_________________________________________________________________\n",
            "conv2d_21 (Conv2D)           (None, 4, 4, 512)         2359808   \n",
            "_________________________________________________________________\n",
            "conv2d_22 (Conv2D)           (None, 4, 4, 512)         2359808   \n",
            "_________________________________________________________________\n",
            "batch_normalization_13 (Batc (None, 4, 4, 512)         2048      \n",
            "_________________________________________________________________\n",
            "max_pooling2d_8 (MaxPooling2 (None, 2, 2, 512)         0         \n",
            "_________________________________________________________________\n",
            "conv2d_23 (Conv2D)           (None, 2, 2, 512)         2359808   \n",
            "_________________________________________________________________\n",
            "conv2d_24 (Conv2D)           (None, 2, 2, 512)         2359808   \n",
            "_________________________________________________________________\n",
            "conv2d_25 (Conv2D)           (None, 2, 2, 512)         2359808   \n",
            "_________________________________________________________________\n",
            "batch_normalization_14 (Batc (None, 2, 2, 512)         2048      \n",
            "_________________________________________________________________\n",
            "max_pooling2d_9 (MaxPooling2 (None, 1, 1, 512)         0         \n",
            "_________________________________________________________________\n",
            "flatten_2 (Flatten)          (None, 512)               0         \n",
            "_________________________________________________________________\n",
            "dropout_5 (Dropout)          (None, 512)               0         \n",
            "_________________________________________________________________\n",
            "dense_5 (Dense)              (None, 1000)              513000    \n",
            "_________________________________________________________________\n",
            "dropout_6 (Dropout)          (None, 1000)              0         \n",
            "_________________________________________________________________\n",
            "dense_6 (Dense)              (None, 500)               500500    \n",
            "_________________________________________________________________\n",
            "dropout_7 (Dropout)          (None, 500)               0         \n",
            "_________________________________________________________________\n",
            "dense_7 (Dense)              (None, 10)                5010      \n",
            "=================================================================\n",
            "Total params: 15,737,934\n",
            "Trainable params: 15,734,990\n",
            "Non-trainable params: 2,944\n",
            "_________________________________________________________________\n"
          ],
          "name": "stdout"
        }
      ]
    },
    {
      "cell_type": "code",
      "metadata": {
        "id": "QJt621_cmWmq"
      },
      "source": [
        "model.compile(loss=losses.CategoricalCrossentropy(), optimizer=optimizers.Adam(lr=1e-5), metrics=['acc'])\n"
      ],
      "execution_count": null,
      "outputs": []
    },
    {
      "cell_type": "code",
      "metadata": {
        "scrolled": true,
        "id": "iKfz_dDumWmq",
        "outputId": "ffcb850a-e9de-41ab-d56a-23a384f8cebb"
      },
      "source": [
        "callback_list = [keras.callbacks.EarlyStopping(monitor='val_loss', patience=20),\n",
        "                         keras.callbacks.ModelCheckpoint(filepath=os.path.join('model.h5'),\n",
        "                                                         monitor='val_loss', save_best_only=True),\n",
        "                         keras.callbacks.ReduceLROnPlateau(monitor='val_loss', factor=0.1, patience=10)]\n",
        "\n",
        "history = model.fit(x_train1, y_train1, epochs=100, batch_size=32, \n",
        "                    validation_data=(x_test1, y_test1),\n",
        "                    callbacks=callback_list, shuffle=True)"
      ],
      "execution_count": null,
      "outputs": [
        {
          "output_type": "stream",
          "text": [
            "Train on 50000 samples, validate on 5000 samples\n",
            "Epoch 1/100\n",
            "50000/50000 [==============================] - 51s 1ms/sample - loss: 3.5326 - acc: 0.3820 - val_loss: 1.8008 - val_acc: 0.8850\n",
            "Epoch 2/100\n",
            "50000/50000 [==============================] - 47s 938us/sample - loss: 1.8617 - acc: 0.8287 - val_loss: 1.4910 - val_acc: 0.9482\n",
            "Epoch 3/100\n",
            "50000/50000 [==============================] - 47s 939us/sample - loss: 1.5481 - acc: 0.9306 - val_loss: 1.4215 - val_acc: 0.9634\n",
            "Epoch 4/100\n",
            "50000/50000 [==============================] - 47s 942us/sample - loss: 1.4347 - acc: 0.9592 - val_loss: 1.3931 - val_acc: 0.9674\n",
            "Epoch 5/100\n",
            "50000/50000 [==============================] - 47s 941us/sample - loss: 1.3635 - acc: 0.9717 - val_loss: 1.3330 - val_acc: 0.9738\n",
            "Epoch 6/100\n",
            "50000/50000 [==============================] - 47s 942us/sample - loss: 1.2999 - acc: 0.9795 - val_loss: 1.2826 - val_acc: 0.9758\n",
            "Epoch 7/100\n",
            "50000/50000 [==============================] - 47s 948us/sample - loss: 1.2351 - acc: 0.9850 - val_loss: 1.2537 - val_acc: 0.9754\n",
            "Epoch 8/100\n",
            "50000/50000 [==============================] - 47s 949us/sample - loss: 1.1748 - acc: 0.9888 - val_loss: 1.1875 - val_acc: 0.9798\n",
            "Epoch 9/100\n",
            "50000/50000 [==============================] - 47s 940us/sample - loss: 1.1105 - acc: 0.9915 - val_loss: 1.1305 - val_acc: 0.9808\n",
            "Epoch 10/100\n",
            "50000/50000 [==============================] - 47s 943us/sample - loss: 1.0465 - acc: 0.9932 - val_loss: 1.0591 - val_acc: 0.9840\n",
            "Epoch 11/100\n",
            "50000/50000 [==============================] - 47s 942us/sample - loss: 0.9809 - acc: 0.9946 - val_loss: 1.0070 - val_acc: 0.9814\n",
            "Epoch 12/100\n",
            "50000/50000 [==============================] - 47s 940us/sample - loss: 0.9140 - acc: 0.9956 - val_loss: 0.9338 - val_acc: 0.9822\n",
            "Epoch 13/100\n",
            "50000/50000 [==============================] - 47s 942us/sample - loss: 0.8466 - acc: 0.9962 - val_loss: 0.9043 - val_acc: 0.9792\n",
            "Epoch 14/100\n",
            "50000/50000 [==============================] - 47s 942us/sample - loss: 0.7768 - acc: 0.9971 - val_loss: 0.8187 - val_acc: 0.9802\n",
            "Epoch 15/100\n",
            "50000/50000 [==============================] - 47s 940us/sample - loss: 0.7088 - acc: 0.9975 - val_loss: 0.7403 - val_acc: 0.9838\n",
            "Epoch 16/100\n",
            "50000/50000 [==============================] - 47s 937us/sample - loss: 0.6438 - acc: 0.9974 - val_loss: 0.7426 - val_acc: 0.9714\n",
            "Epoch 17/100\n",
            "50000/50000 [==============================] - 47s 942us/sample - loss: 0.5846 - acc: 0.9976 - val_loss: 0.6382 - val_acc: 0.9812\n",
            "Epoch 18/100\n",
            "50000/50000 [==============================] - 47s 942us/sample - loss: 0.5268 - acc: 0.9980 - val_loss: 0.5629 - val_acc: 0.9830\n",
            "Epoch 19/100\n",
            "50000/50000 [==============================] - 47s 942us/sample - loss: 0.4689 - acc: 0.9982 - val_loss: 0.5114 - val_acc: 0.9844\n",
            "Epoch 20/100\n",
            "50000/50000 [==============================] - 47s 941us/sample - loss: 0.4176 - acc: 0.9984 - val_loss: 0.4527 - val_acc: 0.9858\n",
            "Epoch 21/100\n",
            "50000/50000 [==============================] - 47s 942us/sample - loss: 0.3626 - acc: 0.9992 - val_loss: 0.4029 - val_acc: 0.9852\n",
            "Epoch 22/100\n",
            "50000/50000 [==============================] - 47s 940us/sample - loss: 0.3142 - acc: 0.9984 - val_loss: 0.3803 - val_acc: 0.9804\n",
            "Epoch 23/100\n",
            "50000/50000 [==============================] - 47s 939us/sample - loss: 0.2707 - acc: 0.9991 - val_loss: 0.3486 - val_acc: 0.9818\n",
            "Epoch 24/100\n",
            "50000/50000 [==============================] - 47s 938us/sample - loss: 0.2335 - acc: 0.9989 - val_loss: 0.2753 - val_acc: 0.9852\n",
            "Epoch 25/100\n",
            "50000/50000 [==============================] - 47s 941us/sample - loss: 0.1984 - acc: 0.9992 - val_loss: 0.2461 - val_acc: 0.9856\n",
            "Epoch 26/100\n",
            "50000/50000 [==============================] - 47s 943us/sample - loss: 0.1669 - acc: 0.9994 - val_loss: 0.2097 - val_acc: 0.9852\n",
            "Epoch 27/100\n",
            "50000/50000 [==============================] - 47s 940us/sample - loss: 0.1401 - acc: 0.9992 - val_loss: 0.2006 - val_acc: 0.9802\n",
            "Epoch 28/100\n",
            "50000/50000 [==============================] - 47s 945us/sample - loss: 0.1190 - acc: 0.9992 - val_loss: 0.1654 - val_acc: 0.9850\n",
            "Epoch 29/100\n",
            "50000/50000 [==============================] - 47s 943us/sample - loss: 0.1014 - acc: 0.9989 - val_loss: 0.1645 - val_acc: 0.9826\n",
            "Epoch 30/100\n",
            "50000/50000 [==============================] - 47s 938us/sample - loss: 0.0851 - acc: 0.9997 - val_loss: 0.1295 - val_acc: 0.9872\n",
            "Epoch 31/100\n",
            "50000/50000 [==============================] - 47s 935us/sample - loss: 0.0735 - acc: 0.9992 - val_loss: 0.1316 - val_acc: 0.9844\n",
            "Epoch 32/100\n",
            "50000/50000 [==============================] - 47s 940us/sample - loss: 0.0629 - acc: 0.9994 - val_loss: 0.1075 - val_acc: 0.9862\n",
            "Epoch 33/100\n",
            "50000/50000 [==============================] - 47s 934us/sample - loss: 0.0514 - acc: 0.9998 - val_loss: 0.1146 - val_acc: 0.9838\n",
            "Epoch 34/100\n",
            "50000/50000 [==============================] - 47s 938us/sample - loss: 0.0421 - acc: 0.9995 - val_loss: 0.1095 - val_acc: 0.9828\n",
            "Epoch 35/100\n",
            "50000/50000 [==============================] - 47s 942us/sample - loss: 0.0351 - acc: 0.9995 - val_loss: 0.0966 - val_acc: 0.9854\n",
            "Epoch 36/100\n",
            "50000/50000 [==============================] - 47s 940us/sample - loss: 0.0307 - acc: 0.9994 - val_loss: 0.0820 - val_acc: 0.9860\n",
            "Epoch 37/100\n",
            "50000/50000 [==============================] - 47s 945us/sample - loss: 0.0248 - acc: 0.9999 - val_loss: 0.0814 - val_acc: 0.9856\n",
            "Epoch 38/100\n",
            "50000/50000 [==============================] - 47s 940us/sample - loss: 0.0223 - acc: 0.9994 - val_loss: 0.0766 - val_acc: 0.9852\n",
            "Epoch 39/100\n",
            "50000/50000 [==============================] - 47s 939us/sample - loss: 0.0179 - acc: 0.9998 - val_loss: 0.0694 - val_acc: 0.9870\n",
            "Epoch 40/100\n",
            "50000/50000 [==============================] - 47s 939us/sample - loss: 0.0161 - acc: 0.9997 - val_loss: 0.0589 - val_acc: 0.9882\n",
            "Epoch 41/100\n",
            "50000/50000 [==============================] - 47s 937us/sample - loss: 0.0143 - acc: 0.9996 - val_loss: 0.0747 - val_acc: 0.9848\n",
            "Epoch 42/100\n",
            "50000/50000 [==============================] - 47s 936us/sample - loss: 0.0119 - acc: 0.9999 - val_loss: 0.0641 - val_acc: 0.9868\n",
            "Epoch 43/100\n",
            "50000/50000 [==============================] - 47s 938us/sample - loss: 0.0114 - acc: 0.9996 - val_loss: 0.0715 - val_acc: 0.9846\n",
            "Epoch 44/100\n",
            "50000/50000 [==============================] - 47s 937us/sample - loss: 0.0104 - acc: 0.9996 - val_loss: 0.0724 - val_acc: 0.9860\n",
            "Epoch 45/100\n",
            "50000/50000 [==============================] - 47s 936us/sample - loss: 0.0100 - acc: 0.9996 - val_loss: 0.0687 - val_acc: 0.9854\n",
            "Epoch 46/100\n",
            "50000/50000 [==============================] - 47s 936us/sample - loss: 0.0086 - acc: 0.9998 - val_loss: 0.0701 - val_acc: 0.9858\n",
            "Epoch 47/100\n",
            "50000/50000 [==============================] - 47s 937us/sample - loss: 0.0081 - acc: 0.9997 - val_loss: 0.0753 - val_acc: 0.9866\n",
            "Epoch 48/100\n",
            "50000/50000 [==============================] - 47s 937us/sample - loss: 0.0079 - acc: 0.9997 - val_loss: 0.0633 - val_acc: 0.9882\n",
            "Epoch 49/100\n",
            "50000/50000 [==============================] - 47s 935us/sample - loss: 0.0075 - acc: 0.9998 - val_loss: 0.0674 - val_acc: 0.9872\n",
            "Epoch 50/100\n",
            "50000/50000 [==============================] - 47s 944us/sample - loss: 0.0074 - acc: 0.9996 - val_loss: 0.0541 - val_acc: 0.9878\n",
            "Epoch 51/100\n",
            "50000/50000 [==============================] - 47s 935us/sample - loss: 0.0068 - acc: 0.9996 - val_loss: 0.0759 - val_acc: 0.9824\n",
            "Epoch 52/100\n",
            "50000/50000 [==============================] - 47s 935us/sample - loss: 0.0067 - acc: 0.9996 - val_loss: 0.0626 - val_acc: 0.9866\n",
            "Epoch 53/100\n",
            "50000/50000 [==============================] - 47s 937us/sample - loss: 0.0065 - acc: 0.9997 - val_loss: 0.0610 - val_acc: 0.9866\n",
            "Epoch 54/100\n",
            "50000/50000 [==============================] - 47s 941us/sample - loss: 0.0052 - acc: 1.0000 - val_loss: 0.0537 - val_acc: 0.9878\n",
            "Epoch 55/100\n",
            "50000/50000 [==============================] - 47s 937us/sample - loss: 0.0063 - acc: 0.9997 - val_loss: 0.0742 - val_acc: 0.9844\n",
            "Epoch 56/100\n",
            "50000/50000 [==============================] - 47s 937us/sample - loss: 0.0063 - acc: 0.9997 - val_loss: 0.0610 - val_acc: 0.9860\n",
            "Epoch 57/100\n",
            "50000/50000 [==============================] - 47s 935us/sample - loss: 0.0068 - acc: 0.9996 - val_loss: 0.0663 - val_acc: 0.9864\n",
            "Epoch 58/100\n"
          ],
          "name": "stdout"
        },
        {
          "output_type": "stream",
          "text": [
            "50000/50000 [==============================] - 47s 936us/sample - loss: 0.0064 - acc: 0.9995 - val_loss: 0.0615 - val_acc: 0.9876\n",
            "Epoch 59/100\n",
            "50000/50000 [==============================] - 47s 936us/sample - loss: 0.0056 - acc: 0.9998 - val_loss: 0.0704 - val_acc: 0.9860\n",
            "Epoch 60/100\n",
            "50000/50000 [==============================] - 47s 932us/sample - loss: 0.0056 - acc: 0.9998 - val_loss: 0.0687 - val_acc: 0.9858\n",
            "Epoch 61/100\n",
            "50000/50000 [==============================] - 47s 938us/sample - loss: 0.0053 - acc: 0.9998 - val_loss: 0.0700 - val_acc: 0.9856\n",
            "Epoch 62/100\n",
            "50000/50000 [==============================] - 47s 941us/sample - loss: 0.0051 - acc: 0.9998 - val_loss: 0.0994 - val_acc: 0.9802\n",
            "Epoch 63/100\n",
            "50000/50000 [==============================] - 47s 938us/sample - loss: 0.0063 - acc: 0.9995 - val_loss: 0.0615 - val_acc: 0.9874\n",
            "Epoch 64/100\n",
            "50000/50000 [==============================] - 47s 939us/sample - loss: 0.0061 - acc: 0.9995 - val_loss: 0.0620 - val_acc: 0.9868\n",
            "Epoch 65/100\n",
            "50000/50000 [==============================] - 47s 940us/sample - loss: 0.0045 - acc: 1.0000 - val_loss: 0.0577 - val_acc: 0.9872\n",
            "Epoch 66/100\n",
            "50000/50000 [==============================] - 47s 937us/sample - loss: 0.0045 - acc: 1.0000 - val_loss: 0.0587 - val_acc: 0.9878\n",
            "Epoch 67/100\n",
            "50000/50000 [==============================] - 47s 940us/sample - loss: 0.0043 - acc: 1.0000 - val_loss: 0.0567 - val_acc: 0.9882\n",
            "Epoch 68/100\n",
            "50000/50000 [==============================] - 47s 938us/sample - loss: 0.0042 - acc: 1.0000 - val_loss: 0.0561 - val_acc: 0.9884\n",
            "Epoch 69/100\n",
            "50000/50000 [==============================] - 47s 938us/sample - loss: 0.0041 - acc: 1.0000 - val_loss: 0.0560 - val_acc: 0.9888\n",
            "Epoch 70/100\n",
            "50000/50000 [==============================] - 47s 939us/sample - loss: 0.0041 - acc: 1.0000 - val_loss: 0.0564 - val_acc: 0.9888\n",
            "Epoch 71/100\n",
            "50000/50000 [==============================] - 47s 944us/sample - loss: 0.0040 - acc: 1.0000 - val_loss: 0.0558 - val_acc: 0.9888\n",
            "Epoch 72/100\n",
            "50000/50000 [==============================] - 47s 943us/sample - loss: 0.0039 - acc: 1.0000 - val_loss: 0.0583 - val_acc: 0.9888\n",
            "Epoch 73/100\n",
            "50000/50000 [==============================] - 47s 941us/sample - loss: 0.0039 - acc: 1.0000 - val_loss: 0.0579 - val_acc: 0.9892\n",
            "Epoch 74/100\n",
            "50000/50000 [==============================] - 47s 941us/sample - loss: 0.0038 - acc: 1.0000 - val_loss: 0.0582 - val_acc: 0.9886\n"
          ],
          "name": "stdout"
        }
      ]
    },
    {
      "cell_type": "code",
      "metadata": {
        "id": "hYSn7pqmmWmq"
      },
      "source": [
        "acc = history.history['acc']\n",
        "val_acc = history.history['val_acc']\n",
        "loss = history.history['loss']\n",
        "val_loss = history.history['val_loss']\n",
        "epochs = range(len(acc))\n",
        "# Accuracy graph\n",
        "plt.figure(figsize=(10, 10))\n",
        "plt.plot(epochs, acc, 'b', label='Training acc = {}%'.format(np.around(np.max(acc) * 100, decimals=1)))\n",
        "plt.plot(epochs, val_acc, 'r', label='Validation acc = {}%'.format(np.around(np.max(val_acc) * 100, decimals=1)))\n",
        "plt.title('{} Accuracy (Total Epoch = {})'.format('VGG16', len(acc)), fontsize=15, y=1.02)\n",
        "plt.xticks(size=15)\n",
        "plt.yticks(size=15)\n",
        "plt.legend(fontsize=15)\n",
        "plt.show()\n",
        "# Loss graph\n",
        "plt.figure(figsize=(10, 10))\n",
        "plt.plot(epochs, loss, 'b', label='Training loss = {}'.format(np.around(np.min(loss), decimals=3)))\n",
        "plt.plot(epochs, val_loss, 'r', label='Validation loss= {}'.format(np.around(np.min(val_loss), decimals=3)))\n",
        "plt.title('{} Loss (Total Epoch = {})'.format('VGG16', len(loss)), fontsize=15, y=1.02)\n",
        "plt.xticks(size=15)\n",
        "plt.yticks(size=15)\n",
        "plt.legend(fontsize=15)\n",
        "plt.show()"
      ],
      "execution_count": null,
      "outputs": []
    },
    {
      "cell_type": "markdown",
      "metadata": {
        "id": "KVT4KNd5mWmq"
      },
      "source": [
        "## 3.2 3D "
      ]
    },
    {
      "cell_type": "code",
      "metadata": {
        "scrolled": true,
        "id": "Et33FS_1mWmr",
        "outputId": "dba18b01-62b5-4374-83ad-aa595be1d5df"
      },
      "source": [
        "model = VGG16_3D(32, 1, 0.5, 256, 3, 'relu', 'relu', 'softmax', 3, 2)\n",
        "model.summary()"
      ],
      "execution_count": null,
      "outputs": [
        {
          "output_type": "stream",
          "text": [
            "Model: \"model\"\n",
            "_________________________________________________________________\n",
            "Layer (type)                 Output Shape              Param #   \n",
            "=================================================================\n",
            "input_2 (InputLayer)         [(None, 32, 32, 32, 1)]   0         \n",
            "_________________________________________________________________\n",
            "conv3d_1 (Conv3D)            (None, 32, 32, 32, 64)    1792      \n",
            "_________________________________________________________________\n",
            "batch_normalization (BatchNo (None, 32, 32, 32, 64)    256       \n",
            "_________________________________________________________________\n",
            "max_pooling3d (MaxPooling3D) (None, 16, 16, 16, 64)    0         \n",
            "_________________________________________________________________\n",
            "conv3d_3 (Conv3D)            (None, 16, 16, 16, 128)   221312    \n",
            "_________________________________________________________________\n",
            "batch_normalization_1 (Batch (None, 16, 16, 16, 128)   512       \n",
            "_________________________________________________________________\n",
            "max_pooling3d_1 (MaxPooling3 (None, 8, 8, 8, 128)      0         \n",
            "_________________________________________________________________\n",
            "conv3d_6 (Conv3D)            (None, 8, 8, 8, 256)      884992    \n",
            "_________________________________________________________________\n",
            "batch_normalization_2 (Batch (None, 8, 8, 8, 256)      1024      \n",
            "_________________________________________________________________\n",
            "max_pooling3d_2 (MaxPooling3 (None, 4, 4, 4, 256)      0         \n",
            "_________________________________________________________________\n",
            "conv3d_9 (Conv3D)            (None, 4, 4, 4, 512)      3539456   \n",
            "_________________________________________________________________\n",
            "batch_normalization_3 (Batch (None, 4, 4, 4, 512)      2048      \n",
            "_________________________________________________________________\n",
            "max_pooling3d_3 (MaxPooling3 (None, 2, 2, 2, 512)      0         \n",
            "_________________________________________________________________\n",
            "conv3d_12 (Conv3D)           (None, 2, 2, 2, 512)      7078400   \n",
            "_________________________________________________________________\n",
            "batch_normalization_4 (Batch (None, 2, 2, 2, 512)      2048      \n",
            "_________________________________________________________________\n",
            "max_pooling3d_4 (MaxPooling3 (None, 1, 1, 1, 512)      0         \n",
            "_________________________________________________________________\n",
            "flatten (Flatten)            (None, 512)               0         \n",
            "_________________________________________________________________\n",
            "dropout (Dropout)            (None, 512)               0         \n",
            "_________________________________________________________________\n",
            "dense (Dense)                (None, 256)               131328    \n",
            "_________________________________________________________________\n",
            "dropout_1 (Dropout)          (None, 256)               0         \n",
            "_________________________________________________________________\n",
            "dense_1 (Dense)              (None, 3)                 771       \n",
            "=================================================================\n",
            "Total params: 11,863,939\n",
            "Trainable params: 11,860,995\n",
            "Non-trainable params: 2,944\n",
            "_________________________________________________________________\n"
          ],
          "name": "stdout"
        }
      ]
    },
    {
      "cell_type": "code",
      "metadata": {
        "id": "06KnVstxmWmr",
        "outputId": "a6abddb3-7f33-4377-8a34-5089521d4de6"
      },
      "source": [
        "model.compile(loss=losses.CategoricalCrossentropy(), optimizer=optimizers.Adam(lr=1e-5), metrics=['acc'])\n",
        "callback_list = [keras.callbacks.EarlyStopping(monitor='val_acc', patience=12),\n",
        "                         keras.callbacks.ModelCheckpoint(filepath=os.path.join('model.h5'),\n",
        "                                                         monitor='val_loss', save_best_only=True),\n",
        "                         keras.callbacks.ReduceLROnPlateau(monitor='val_loss', factor=0.1, patience=10)]\n",
        "\n",
        "history = model.fit(x3_train1, y3_train1, epochs=100, batch_size=32, \n",
        "                    validation_data=(x3_test1, y3_test1),\n",
        "                    callbacks=callback_list, shuffle=True)"
      ],
      "execution_count": null,
      "outputs": [
        {
          "output_type": "stream",
          "text": [
            "Train on 1200 samples, validate on 600 samples\n",
            "Epoch 1/100\n",
            "1200/1200 [==============================] - 12s 10ms/sample - loss: 0.7309 - acc: 0.8250 - val_loss: 7.4159 - val_acc: 0.3333\n",
            "Epoch 2/100\n",
            "1200/1200 [==============================] - 7s 6ms/sample - loss: 0.0624 - acc: 0.9767 - val_loss: 2.1473 - val_acc: 0.3917\n",
            "Epoch 3/100\n",
            "1200/1200 [==============================] - 7s 6ms/sample - loss: 0.0446 - acc: 0.9825 - val_loss: 0.1712 - val_acc: 0.9633\n",
            "Epoch 4/100\n",
            "1200/1200 [==============================] - 7s 6ms/sample - loss: 0.0224 - acc: 0.9950 - val_loss: 0.0159 - val_acc: 1.0000\n",
            "Epoch 5/100\n",
            "1200/1200 [==============================] - 7s 6ms/sample - loss: 0.0159 - acc: 0.9975 - val_loss: 0.0017 - val_acc: 1.0000\n",
            "Epoch 6/100\n",
            "1024/1200 [========================>.....] - ETA: 0s - loss: 0.0092 - acc: 0.9990WARNING:tensorflow:Early stopping conditioned on metric `val_acc` which is not available. Available metrics are: loss,acc\n",
            "WARNING:tensorflow:Can save best model only with val_loss available, skipping.\n",
            "WARNING:tensorflow:Reduce LR on plateau conditioned on metric `val_loss` which is not available. Available metrics are: loss,acc,lr\n",
            "1024/1200 [========================>.....] - ETA: 0s - loss: 0.0092 - acc: 0.9990"
          ],
          "name": "stdout"
        },
        {
          "output_type": "error",
          "ename": "KeyboardInterrupt",
          "evalue": "",
          "traceback": [
            "\u001b[1;31m---------------------------------------------------------------------------\u001b[0m",
            "\u001b[1;31mKeyboardInterrupt\u001b[0m                         Traceback (most recent call last)",
            "\u001b[1;32m<ipython-input-15-181a4e7bc910>\u001b[0m in \u001b[0;36m<module>\u001b[1;34m\u001b[0m\n\u001b[0;32m      7\u001b[0m history = model.fit(x3_train1, y3_train1, epochs=100, batch_size=32, \n\u001b[0;32m      8\u001b[0m                     \u001b[0mvalidation_data\u001b[0m\u001b[1;33m=\u001b[0m\u001b[1;33m(\u001b[0m\u001b[0mx3_test1\u001b[0m\u001b[1;33m,\u001b[0m \u001b[0my3_test1\u001b[0m\u001b[1;33m)\u001b[0m\u001b[1;33m,\u001b[0m\u001b[1;33m\u001b[0m\u001b[1;33m\u001b[0m\u001b[0m\n\u001b[1;32m----> 9\u001b[1;33m                     callbacks=callback_list, shuffle=True)\n\u001b[0m",
            "\u001b[1;32m~\\Anaconda3\\envs\\py37_gpu\\lib\\site-packages\\tensorflow_core\\python\\keras\\engine\\training.py\u001b[0m in \u001b[0;36mfit\u001b[1;34m(self, x, y, batch_size, epochs, verbose, callbacks, validation_split, validation_data, shuffle, class_weight, sample_weight, initial_epoch, steps_per_epoch, validation_steps, validation_freq, max_queue_size, workers, use_multiprocessing, **kwargs)\u001b[0m\n\u001b[0;32m    726\u001b[0m         \u001b[0mmax_queue_size\u001b[0m\u001b[1;33m=\u001b[0m\u001b[0mmax_queue_size\u001b[0m\u001b[1;33m,\u001b[0m\u001b[1;33m\u001b[0m\u001b[1;33m\u001b[0m\u001b[0m\n\u001b[0;32m    727\u001b[0m         \u001b[0mworkers\u001b[0m\u001b[1;33m=\u001b[0m\u001b[0mworkers\u001b[0m\u001b[1;33m,\u001b[0m\u001b[1;33m\u001b[0m\u001b[1;33m\u001b[0m\u001b[0m\n\u001b[1;32m--> 728\u001b[1;33m         use_multiprocessing=use_multiprocessing)\n\u001b[0m\u001b[0;32m    729\u001b[0m \u001b[1;33m\u001b[0m\u001b[0m\n\u001b[0;32m    730\u001b[0m   def evaluate(self,\n",
            "\u001b[1;32m~\\Anaconda3\\envs\\py37_gpu\\lib\\site-packages\\tensorflow_core\\python\\keras\\engine\\training_v2.py\u001b[0m in \u001b[0;36mfit\u001b[1;34m(self, model, x, y, batch_size, epochs, verbose, callbacks, validation_split, validation_data, shuffle, class_weight, sample_weight, initial_epoch, steps_per_epoch, validation_steps, validation_freq, **kwargs)\u001b[0m\n\u001b[0;32m    322\u001b[0m                 \u001b[0mmode\u001b[0m\u001b[1;33m=\u001b[0m\u001b[0mModeKeys\u001b[0m\u001b[1;33m.\u001b[0m\u001b[0mTRAIN\u001b[0m\u001b[1;33m,\u001b[0m\u001b[1;33m\u001b[0m\u001b[1;33m\u001b[0m\u001b[0m\n\u001b[0;32m    323\u001b[0m                 \u001b[0mtraining_context\u001b[0m\u001b[1;33m=\u001b[0m\u001b[0mtraining_context\u001b[0m\u001b[1;33m,\u001b[0m\u001b[1;33m\u001b[0m\u001b[1;33m\u001b[0m\u001b[0m\n\u001b[1;32m--> 324\u001b[1;33m                 total_epochs=epochs)\n\u001b[0m\u001b[0;32m    325\u001b[0m             \u001b[0mcbks\u001b[0m\u001b[1;33m.\u001b[0m\u001b[0mmake_logs\u001b[0m\u001b[1;33m(\u001b[0m\u001b[0mmodel\u001b[0m\u001b[1;33m,\u001b[0m \u001b[0mepoch_logs\u001b[0m\u001b[1;33m,\u001b[0m \u001b[0mtraining_result\u001b[0m\u001b[1;33m,\u001b[0m \u001b[0mModeKeys\u001b[0m\u001b[1;33m.\u001b[0m\u001b[0mTRAIN\u001b[0m\u001b[1;33m)\u001b[0m\u001b[1;33m\u001b[0m\u001b[1;33m\u001b[0m\u001b[0m\n\u001b[0;32m    326\u001b[0m \u001b[1;33m\u001b[0m\u001b[0m\n",
            "\u001b[1;32m~\\Anaconda3\\envs\\py37_gpu\\lib\\site-packages\\tensorflow_core\\python\\keras\\engine\\training_v2.py\u001b[0m in \u001b[0;36mrun_one_epoch\u001b[1;34m(model, iterator, execution_function, dataset_size, batch_size, strategy, steps_per_epoch, num_samples, mode, training_context, total_epochs)\u001b[0m\n\u001b[0;32m    121\u001b[0m         step=step, mode=mode, size=current_batch_size) as batch_logs:\n\u001b[0;32m    122\u001b[0m       \u001b[1;32mtry\u001b[0m\u001b[1;33m:\u001b[0m\u001b[1;33m\u001b[0m\u001b[1;33m\u001b[0m\u001b[0m\n\u001b[1;32m--> 123\u001b[1;33m         \u001b[0mbatch_outs\u001b[0m \u001b[1;33m=\u001b[0m \u001b[0mexecution_function\u001b[0m\u001b[1;33m(\u001b[0m\u001b[0miterator\u001b[0m\u001b[1;33m)\u001b[0m\u001b[1;33m\u001b[0m\u001b[1;33m\u001b[0m\u001b[0m\n\u001b[0m\u001b[0;32m    124\u001b[0m       \u001b[1;32mexcept\u001b[0m \u001b[1;33m(\u001b[0m\u001b[0mStopIteration\u001b[0m\u001b[1;33m,\u001b[0m \u001b[0merrors\u001b[0m\u001b[1;33m.\u001b[0m\u001b[0mOutOfRangeError\u001b[0m\u001b[1;33m)\u001b[0m\u001b[1;33m:\u001b[0m\u001b[1;33m\u001b[0m\u001b[1;33m\u001b[0m\u001b[0m\n\u001b[0;32m    125\u001b[0m         \u001b[1;31m# TODO(kaftan): File bug about tf function and errors.OutOfRangeError?\u001b[0m\u001b[1;33m\u001b[0m\u001b[1;33m\u001b[0m\u001b[1;33m\u001b[0m\u001b[0m\n",
            "\u001b[1;32m~\\Anaconda3\\envs\\py37_gpu\\lib\\site-packages\\tensorflow_core\\python\\keras\\engine\\training_v2_utils.py\u001b[0m in \u001b[0;36mexecution_function\u001b[1;34m(input_fn)\u001b[0m\n\u001b[0;32m     84\u001b[0m     \u001b[1;31m# `numpy` translates Tensors to values in Eager mode.\u001b[0m\u001b[1;33m\u001b[0m\u001b[1;33m\u001b[0m\u001b[1;33m\u001b[0m\u001b[0m\n\u001b[0;32m     85\u001b[0m     return nest.map_structure(_non_none_constant_value,\n\u001b[1;32m---> 86\u001b[1;33m                               distributed_function(input_fn))\n\u001b[0m\u001b[0;32m     87\u001b[0m \u001b[1;33m\u001b[0m\u001b[0m\n\u001b[0;32m     88\u001b[0m   \u001b[1;32mreturn\u001b[0m \u001b[0mexecution_function\u001b[0m\u001b[1;33m\u001b[0m\u001b[1;33m\u001b[0m\u001b[0m\n",
            "\u001b[1;32m~\\Anaconda3\\envs\\py37_gpu\\lib\\site-packages\\tensorflow_core\\python\\eager\\def_function.py\u001b[0m in \u001b[0;36m__call__\u001b[1;34m(self, *args, **kwds)\u001b[0m\n\u001b[0;32m    455\u001b[0m \u001b[1;33m\u001b[0m\u001b[0m\n\u001b[0;32m    456\u001b[0m     \u001b[0mtracing_count\u001b[0m \u001b[1;33m=\u001b[0m \u001b[0mself\u001b[0m\u001b[1;33m.\u001b[0m\u001b[0m_get_tracing_count\u001b[0m\u001b[1;33m(\u001b[0m\u001b[1;33m)\u001b[0m\u001b[1;33m\u001b[0m\u001b[1;33m\u001b[0m\u001b[0m\n\u001b[1;32m--> 457\u001b[1;33m     \u001b[0mresult\u001b[0m \u001b[1;33m=\u001b[0m \u001b[0mself\u001b[0m\u001b[1;33m.\u001b[0m\u001b[0m_call\u001b[0m\u001b[1;33m(\u001b[0m\u001b[1;33m*\u001b[0m\u001b[0margs\u001b[0m\u001b[1;33m,\u001b[0m \u001b[1;33m**\u001b[0m\u001b[0mkwds\u001b[0m\u001b[1;33m)\u001b[0m\u001b[1;33m\u001b[0m\u001b[1;33m\u001b[0m\u001b[0m\n\u001b[0m\u001b[0;32m    458\u001b[0m     \u001b[1;32mif\u001b[0m \u001b[0mtracing_count\u001b[0m \u001b[1;33m==\u001b[0m \u001b[0mself\u001b[0m\u001b[1;33m.\u001b[0m\u001b[0m_get_tracing_count\u001b[0m\u001b[1;33m(\u001b[0m\u001b[1;33m)\u001b[0m\u001b[1;33m:\u001b[0m\u001b[1;33m\u001b[0m\u001b[1;33m\u001b[0m\u001b[0m\n\u001b[0;32m    459\u001b[0m       \u001b[0mself\u001b[0m\u001b[1;33m.\u001b[0m\u001b[0m_call_counter\u001b[0m\u001b[1;33m.\u001b[0m\u001b[0mcalled_without_tracing\u001b[0m\u001b[1;33m(\u001b[0m\u001b[1;33m)\u001b[0m\u001b[1;33m\u001b[0m\u001b[1;33m\u001b[0m\u001b[0m\n",
            "\u001b[1;32m~\\Anaconda3\\envs\\py37_gpu\\lib\\site-packages\\tensorflow_core\\python\\eager\\def_function.py\u001b[0m in \u001b[0;36m_call\u001b[1;34m(self, *args, **kwds)\u001b[0m\n\u001b[0;32m    485\u001b[0m       \u001b[1;31m# In this case we have created variables on the first call, so we run the\u001b[0m\u001b[1;33m\u001b[0m\u001b[1;33m\u001b[0m\u001b[1;33m\u001b[0m\u001b[0m\n\u001b[0;32m    486\u001b[0m       \u001b[1;31m# defunned version which is guaranteed to never create variables.\u001b[0m\u001b[1;33m\u001b[0m\u001b[1;33m\u001b[0m\u001b[1;33m\u001b[0m\u001b[0m\n\u001b[1;32m--> 487\u001b[1;33m       \u001b[1;32mreturn\u001b[0m \u001b[0mself\u001b[0m\u001b[1;33m.\u001b[0m\u001b[0m_stateless_fn\u001b[0m\u001b[1;33m(\u001b[0m\u001b[1;33m*\u001b[0m\u001b[0margs\u001b[0m\u001b[1;33m,\u001b[0m \u001b[1;33m**\u001b[0m\u001b[0mkwds\u001b[0m\u001b[1;33m)\u001b[0m  \u001b[1;31m# pylint: disable=not-callable\u001b[0m\u001b[1;33m\u001b[0m\u001b[1;33m\u001b[0m\u001b[0m\n\u001b[0m\u001b[0;32m    488\u001b[0m     \u001b[1;32melif\u001b[0m \u001b[0mself\u001b[0m\u001b[1;33m.\u001b[0m\u001b[0m_stateful_fn\u001b[0m \u001b[1;32mis\u001b[0m \u001b[1;32mnot\u001b[0m \u001b[1;32mNone\u001b[0m\u001b[1;33m:\u001b[0m\u001b[1;33m\u001b[0m\u001b[1;33m\u001b[0m\u001b[0m\n\u001b[0;32m    489\u001b[0m       \u001b[1;31m# Release the lock early so that multiple threads can perform the call\u001b[0m\u001b[1;33m\u001b[0m\u001b[1;33m\u001b[0m\u001b[1;33m\u001b[0m\u001b[0m\n",
            "\u001b[1;32m~\\Anaconda3\\envs\\py37_gpu\\lib\\site-packages\\tensorflow_core\\python\\eager\\function.py\u001b[0m in \u001b[0;36m__call__\u001b[1;34m(self, *args, **kwargs)\u001b[0m\n\u001b[0;32m   1821\u001b[0m     \u001b[1;34m\"\"\"Calls a graph function specialized to the inputs.\"\"\"\u001b[0m\u001b[1;33m\u001b[0m\u001b[1;33m\u001b[0m\u001b[0m\n\u001b[0;32m   1822\u001b[0m     \u001b[0mgraph_function\u001b[0m\u001b[1;33m,\u001b[0m \u001b[0margs\u001b[0m\u001b[1;33m,\u001b[0m \u001b[0mkwargs\u001b[0m \u001b[1;33m=\u001b[0m \u001b[0mself\u001b[0m\u001b[1;33m.\u001b[0m\u001b[0m_maybe_define_function\u001b[0m\u001b[1;33m(\u001b[0m\u001b[0margs\u001b[0m\u001b[1;33m,\u001b[0m \u001b[0mkwargs\u001b[0m\u001b[1;33m)\u001b[0m\u001b[1;33m\u001b[0m\u001b[1;33m\u001b[0m\u001b[0m\n\u001b[1;32m-> 1823\u001b[1;33m     \u001b[1;32mreturn\u001b[0m \u001b[0mgraph_function\u001b[0m\u001b[1;33m.\u001b[0m\u001b[0m_filtered_call\u001b[0m\u001b[1;33m(\u001b[0m\u001b[0margs\u001b[0m\u001b[1;33m,\u001b[0m \u001b[0mkwargs\u001b[0m\u001b[1;33m)\u001b[0m  \u001b[1;31m# pylint: disable=protected-access\u001b[0m\u001b[1;33m\u001b[0m\u001b[1;33m\u001b[0m\u001b[0m\n\u001b[0m\u001b[0;32m   1824\u001b[0m \u001b[1;33m\u001b[0m\u001b[0m\n\u001b[0;32m   1825\u001b[0m   \u001b[1;33m@\u001b[0m\u001b[0mproperty\u001b[0m\u001b[1;33m\u001b[0m\u001b[1;33m\u001b[0m\u001b[0m\n",
            "\u001b[1;32m~\\Anaconda3\\envs\\py37_gpu\\lib\\site-packages\\tensorflow_core\\python\\eager\\function.py\u001b[0m in \u001b[0;36m_filtered_call\u001b[1;34m(self, args, kwargs)\u001b[0m\n\u001b[0;32m   1139\u001b[0m          if isinstance(t, (ops.Tensor,\n\u001b[0;32m   1140\u001b[0m                            resource_variable_ops.BaseResourceVariable))),\n\u001b[1;32m-> 1141\u001b[1;33m         self.captured_inputs)\n\u001b[0m\u001b[0;32m   1142\u001b[0m \u001b[1;33m\u001b[0m\u001b[0m\n\u001b[0;32m   1143\u001b[0m   \u001b[1;32mdef\u001b[0m \u001b[0m_call_flat\u001b[0m\u001b[1;33m(\u001b[0m\u001b[0mself\u001b[0m\u001b[1;33m,\u001b[0m \u001b[0margs\u001b[0m\u001b[1;33m,\u001b[0m \u001b[0mcaptured_inputs\u001b[0m\u001b[1;33m,\u001b[0m \u001b[0mcancellation_manager\u001b[0m\u001b[1;33m=\u001b[0m\u001b[1;32mNone\u001b[0m\u001b[1;33m)\u001b[0m\u001b[1;33m:\u001b[0m\u001b[1;33m\u001b[0m\u001b[1;33m\u001b[0m\u001b[0m\n",
            "\u001b[1;32m~\\Anaconda3\\envs\\py37_gpu\\lib\\site-packages\\tensorflow_core\\python\\eager\\function.py\u001b[0m in \u001b[0;36m_call_flat\u001b[1;34m(self, args, captured_inputs, cancellation_manager)\u001b[0m\n\u001b[0;32m   1222\u001b[0m     \u001b[1;32mif\u001b[0m \u001b[0mexecuting_eagerly\u001b[0m\u001b[1;33m:\u001b[0m\u001b[1;33m\u001b[0m\u001b[1;33m\u001b[0m\u001b[0m\n\u001b[0;32m   1223\u001b[0m       flat_outputs = forward_function.call(\n\u001b[1;32m-> 1224\u001b[1;33m           ctx, args, cancellation_manager=cancellation_manager)\n\u001b[0m\u001b[0;32m   1225\u001b[0m     \u001b[1;32melse\u001b[0m\u001b[1;33m:\u001b[0m\u001b[1;33m\u001b[0m\u001b[1;33m\u001b[0m\u001b[0m\n\u001b[0;32m   1226\u001b[0m       \u001b[0mgradient_name\u001b[0m \u001b[1;33m=\u001b[0m \u001b[0mself\u001b[0m\u001b[1;33m.\u001b[0m\u001b[0m_delayed_rewrite_functions\u001b[0m\u001b[1;33m.\u001b[0m\u001b[0mregister\u001b[0m\u001b[1;33m(\u001b[0m\u001b[1;33m)\u001b[0m\u001b[1;33m\u001b[0m\u001b[1;33m\u001b[0m\u001b[0m\n",
            "\u001b[1;32m~\\Anaconda3\\envs\\py37_gpu\\lib\\site-packages\\tensorflow_core\\python\\eager\\function.py\u001b[0m in \u001b[0;36mcall\u001b[1;34m(self, ctx, args, cancellation_manager)\u001b[0m\n\u001b[0;32m    509\u001b[0m               \u001b[0minputs\u001b[0m\u001b[1;33m=\u001b[0m\u001b[0margs\u001b[0m\u001b[1;33m,\u001b[0m\u001b[1;33m\u001b[0m\u001b[1;33m\u001b[0m\u001b[0m\n\u001b[0;32m    510\u001b[0m               \u001b[0mattrs\u001b[0m\u001b[1;33m=\u001b[0m\u001b[1;33m(\u001b[0m\u001b[1;34m\"executor_type\"\u001b[0m\u001b[1;33m,\u001b[0m \u001b[0mexecutor_type\u001b[0m\u001b[1;33m,\u001b[0m \u001b[1;34m\"config_proto\"\u001b[0m\u001b[1;33m,\u001b[0m \u001b[0mconfig\u001b[0m\u001b[1;33m)\u001b[0m\u001b[1;33m,\u001b[0m\u001b[1;33m\u001b[0m\u001b[1;33m\u001b[0m\u001b[0m\n\u001b[1;32m--> 511\u001b[1;33m               ctx=ctx)\n\u001b[0m\u001b[0;32m    512\u001b[0m         \u001b[1;32melse\u001b[0m\u001b[1;33m:\u001b[0m\u001b[1;33m\u001b[0m\u001b[1;33m\u001b[0m\u001b[0m\n\u001b[0;32m    513\u001b[0m           outputs = execute.execute_with_cancellation(\n",
            "\u001b[1;32m~\\Anaconda3\\envs\\py37_gpu\\lib\\site-packages\\tensorflow_core\\python\\eager\\execute.py\u001b[0m in \u001b[0;36mquick_execute\u001b[1;34m(op_name, num_outputs, inputs, attrs, ctx, name)\u001b[0m\n\u001b[0;32m     59\u001b[0m     tensors = pywrap_tensorflow.TFE_Py_Execute(ctx._handle, device_name,\n\u001b[0;32m     60\u001b[0m                                                \u001b[0mop_name\u001b[0m\u001b[1;33m,\u001b[0m \u001b[0minputs\u001b[0m\u001b[1;33m,\u001b[0m \u001b[0mattrs\u001b[0m\u001b[1;33m,\u001b[0m\u001b[1;33m\u001b[0m\u001b[1;33m\u001b[0m\u001b[0m\n\u001b[1;32m---> 61\u001b[1;33m                                                num_outputs)\n\u001b[0m\u001b[0;32m     62\u001b[0m   \u001b[1;32mexcept\u001b[0m \u001b[0mcore\u001b[0m\u001b[1;33m.\u001b[0m\u001b[0m_NotOkStatusException\u001b[0m \u001b[1;32mas\u001b[0m \u001b[0me\u001b[0m\u001b[1;33m:\u001b[0m\u001b[1;33m\u001b[0m\u001b[1;33m\u001b[0m\u001b[0m\n\u001b[0;32m     63\u001b[0m     \u001b[1;32mif\u001b[0m \u001b[0mname\u001b[0m \u001b[1;32mis\u001b[0m \u001b[1;32mnot\u001b[0m \u001b[1;32mNone\u001b[0m\u001b[1;33m:\u001b[0m\u001b[1;33m\u001b[0m\u001b[1;33m\u001b[0m\u001b[0m\n",
            "\u001b[1;31mKeyboardInterrupt\u001b[0m: "
          ]
        }
      ]
    },
    {
      "cell_type": "code",
      "metadata": {
        "id": "jK_aCtLrmWmr"
      },
      "source": [
        "acc = history.history['acc']\n",
        "val_acc = history.history['val_acc']\n",
        "loss = history.history['loss']\n",
        "val_loss = history.history['val_loss']\n",
        "epochs = range(len(acc))\n",
        "# Accuracy graph\n",
        "plt.figure(figsize=(10, 10))\n",
        "plt.plot(epochs, acc, 'b', label='Training acc = {}%'.format(np.around(np.max(acc) * 100, decimals=1)))\n",
        "plt.plot(epochs, val_acc, 'r', label='Validation acc = {}%'.format(np.around(np.max(val_acc) * 100, decimals=1)))\n",
        "plt.title('{} Accuracy (Total Epoch = {})'.format('VGG16', len(acc)), fontsize=15, y=1.02)\n",
        "plt.xticks(size=15)\n",
        "plt.yticks(size=15)\n",
        "plt.legend(fontsize=15)\n",
        "plt.show()\n",
        "# Loss graph\n",
        "plt.figure(figsize=(10, 10))\n",
        "plt.plot(epochs, loss, 'b', label='Training loss = {}'.format(np.around(np.min(loss), decimals=3)))\n",
        "plt.plot(epochs, val_loss, 'r', label='Validation loss= {}'.format(np.around(np.min(val_loss), decimals=3)))\n",
        "plt.title('{} Loss (Total Epoch = {})'.format('VGG16', len(loss)), fontsize=15, y=1.02)\n",
        "plt.xticks(size=15)\n",
        "plt.yticks(size=15)\n",
        "plt.legend(fontsize=15)\n",
        "plt.show()"
      ],
      "execution_count": null,
      "outputs": []
    },
    {
      "cell_type": "markdown",
      "metadata": {
        "id": "26qBMmXXmWmr"
      },
      "source": [
        "# 4. Additional Model"
      ]
    },
    {
      "cell_type": "markdown",
      "metadata": {
        "id": "E8_uGVPnmWmr"
      },
      "source": [
        "# 4.1 VGG19"
      ]
    },
    {
      "cell_type": "markdown",
      "metadata": {
        "id": "6j2tjkknmWmr"
      },
      "source": [
        "* keras application"
      ]
    },
    {
      "cell_type": "code",
      "metadata": {
        "id": "sWjw1sw8mWmr"
      },
      "source": [
        "from tensorflow.keras.applications import VGG19\n",
        "model = VGG19(weights='imagenet', include_top=False, input_shape=(32, 32, 3))\n",
        "model.summary()"
      ],
      "execution_count": null,
      "outputs": []
    },
    {
      "cell_type": "code",
      "metadata": {
        "id": "V9hdqn2wmWmr"
      },
      "source": [
        "def VGG19_2D(input_size, drop_out, flat_count, class_count, conv_act, flat_act, output_act, conv_str, pool_str):\n",
        "\n",
        "    inputs = Input(shape=(input_size, input_size, 1))\n",
        "    block1 = cn.conv_block_2d(inputs, 2, [64, conv_str, conv_act, pool_str, drop_out])\n",
        "    block2 = cn.conv_block_2d(block1, 2, [128, conv_str, conv_act, pool_str, drop_out])\n",
        "    block3 = cn.conv_block_2d(block2, 4, [256, conv_str, conv_act, pool_str, drop_out])\n",
        "    block4 = cn.conv_block_2d(block3, 4, [512, conv_str, conv_act, pool_str, drop_out])\n",
        "    block5 = cn.conv_block_2d(block4, 4, [512, conv_str, conv_act, pool_str, drop_out])\n",
        "    flat = layers.Flatten()(block5)\n",
        "    drop1 = layers.Dropout(drop_out)(flat)\n",
        "    dens = layers.Dense(flat_count, activation=flat_act)(drop1)\n",
        "    drop2 = layers.Dropout(drop_out)(dens)\n",
        "    outputs = layers.Dense(class_count, activation=output_act)(drop2)\n",
        "    model = Model(inputs, outputs)\n",
        "    return model\n",
        "\n",
        "model = VGG19_2D(32, 0.5, 256, 2, 'relu', 'relu', 'sigmoid', 3, 2)\n",
        "model.summary()"
      ],
      "execution_count": null,
      "outputs": []
    },
    {
      "cell_type": "code",
      "metadata": {
        "id": "Zm27XS59mWms"
      },
      "source": [
        "def VGGfree_2D(input_size, block_num, layer_num, drop_out, flat_count, class_count, conv_act, flat_act, output_act, conv_str, pool_str):\n",
        "\n",
        "    inputs = Input(shape=(input_size, input_size, 1))\n",
        "    block = layers.Conv2D(32, conv_str, activation=conv_act, padding='same', kernel_initializer='he_normal')(inputs)\n",
        "    for i in range(block_num):\n",
        "        block = cn.conv_block_2d(block, layer_num, [32*(2**i), conv_str, conv_act, pool_str, drop_out])\n",
        "    flat = layers.Flatten()(block)\n",
        "    drop1 = layers.Dropout(drop_out)(flat)\n",
        "    dens = layers.Dense(flat_count, activation=flat_act)(drop1)\n",
        "    drop2 = layers.Dropout(drop_out)(dens)\n",
        "    outputs = layers.Dense(class_count, activation=output_act)(drop2)\n",
        "    model = Model(inputs, outputs)\n",
        "    return model\n",
        "\n",
        "model = VGGfree_2D(32, 5, 2, 0.5, 256, 2, 'relu', 'relu', 'sigmoid', 3, 2)\n",
        "model.summary()"
      ],
      "execution_count": null,
      "outputs": []
    },
    {
      "cell_type": "code",
      "metadata": {
        "id": "7mtaCfqFmWms"
      },
      "source": [
        ""
      ],
      "execution_count": null,
      "outputs": []
    }
  ]
}