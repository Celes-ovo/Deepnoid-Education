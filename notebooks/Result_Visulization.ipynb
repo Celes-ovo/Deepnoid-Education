{
  "nbformat": 4,
  "nbformat_minor": 0,
  "metadata": {
    "colab": {
      "name": "Result_Visulization.ipynb",
      "provenance": [],
      "toc_visible": true,
      "authorship_tag": "ABX9TyORo1dEdGCAygQW4F07BPhV",
      "include_colab_link": true
    },
    "kernelspec": {
      "name": "python3",
      "display_name": "Python 3"
    },
    "accelerator": "GPU"
  },
  "cells": [
    {
      "cell_type": "markdown",
      "metadata": {
        "id": "view-in-github",
        "colab_type": "text"
      },
      "source": [
        "<a href=\"https://colab.research.google.com/github/Pulsar-kkaturi/Deepnoid-Education/blob/master/notebooks/Result_Visulization.ipynb\" target=\"_parent\"><img src=\"https://colab.research.google.com/assets/colab-badge.svg\" alt=\"Open In Colab\"/></a>"
      ]
    },
    {
      "cell_type": "markdown",
      "metadata": {
        "id": "37DOVvDMm-_A"
      },
      "source": [
        "# Result Visulization (결과 시각화)"
      ]
    },
    {
      "cell_type": "markdown",
      "metadata": {
        "id": "Q4XY8H1nnFe_"
      },
      "source": [
        "# 1. Library Import"
      ]
    },
    {
      "cell_type": "code",
      "metadata": {
        "id": "-vEPrq0skcWj"
      },
      "source": [
        "import os, matplotlib, csv, shutil, json\r\n",
        "import numpy as np\r\n",
        "import matplotlib\r\n",
        "from matplotlib import pyplot as plt\r\n",
        "import pandas as pd\r\n",
        "\r\n",
        "\r\n",
        "### Tensorflow 2.0 ###\r\n",
        "import tensorflow as tf\r\n",
        "from tensorflow import keras\r\n",
        "from tensorflow.keras.models import Sequential, Model\r\n",
        "from tensorflow.keras import Input\r\n",
        "from tensorflow.keras import layers\r\n",
        "from tensorflow.keras import models\r\n",
        "from tensorflow.keras.preprocessing import image\r\n",
        "from tensorflow.keras.preprocessing.image import ImageDataGenerator\r\n",
        "from tensorflow.keras import losses\r\n",
        "from tensorflow.keras import optimizers\r\n",
        "from tensorflow.keras import metrics\r\n",
        "from tensorflow.keras import regularizers\r\n",
        "from tensorflow.keras import utils\r\n",
        "from tensorflow.keras.callbacks import ModelCheckpoint, LearningRateScheduler\r\n",
        "from keras import backend as K"
      ],
      "execution_count": 61,
      "outputs": []
    },
    {
      "cell_type": "markdown",
      "metadata": {
        "id": "78f6Q_C-8dnh"
      },
      "source": [
        "# 2. 데이터셋 로딩"
      ]
    },
    {
      "cell_type": "code",
      "metadata": {
        "colab": {
          "base_uri": "https://localhost:8080/"
        },
        "id": "HwNtiL33oGpZ",
        "outputId": "0c19d836-4e67-4905-fa41-3b2cdd291458"
      },
      "source": [
        "(x_train, y_train), (x_test, y_test)=keras.datasets.mnist.load_data(path='minist.npz')\r\n"
      ],
      "execution_count": 2,
      "outputs": [
        {
          "output_type": "stream",
          "text": [
            "Downloading data from https://storage.googleapis.com/tensorflow/tf-keras-datasets/mnist.npz\n",
            "11493376/11490434 [==============================] - 0s 0us/step\n"
          ],
          "name": "stdout"
        }
      ]
    },
    {
      "cell_type": "code",
      "metadata": {
        "colab": {
          "base_uri": "https://localhost:8080/"
        },
        "id": "wP8qLluRuV2O",
        "outputId": "519196ba-8116-4389-c319-604d90477a60"
      },
      "source": [
        "print(x_train.shape, y_train.shape)"
      ],
      "execution_count": 3,
      "outputs": [
        {
          "output_type": "stream",
          "text": [
            "(60000, 28, 28) (60000,)\n"
          ],
          "name": "stdout"
        }
      ]
    },
    {
      "cell_type": "markdown",
      "metadata": {
        "id": "1hkS7G1ruu5q"
      },
      "source": [
        "# 2.1 MNIST Image Array"
      ]
    },
    {
      "cell_type": "code",
      "metadata": {
        "colab": {
          "base_uri": "https://localhost:8080/"
        },
        "id": "7UHKqWuXuWuu",
        "outputId": "edd66d74-d2d3-40b0-c7cc-8192d64373f2"
      },
      "source": [
        "x_train_list = []\r\n",
        "x_test_list = []\r\n",
        "for i, i_ in enumerate(x_train[:1000]):\r\n",
        "    arr = np.zeros(shape=(32, 32))\r\n",
        "    arr[:28,:28] = x_train[i]\r\n",
        "    x_train_list.append(arr)\r\n",
        "for i, i_ in enumerate(x_test[:500]):\r\n",
        "    arr = np.zeros(shape=(32, 32))\r\n",
        "    arr[:28,:28] = x_test[i]\r\n",
        "    x_test_list.append(arr)\r\n",
        "\r\n",
        "x_train1 = np.expand_dims(np.array(x_train_list), axis=-1)\r\n",
        "x_test1 = np.expand_dims(np.array(x_test_list), axis=-1)\r\n",
        "print(x_train1.shape, x_test1.shape)"
      ],
      "execution_count": 6,
      "outputs": [
        {
          "output_type": "stream",
          "text": [
            "(1000, 32, 32, 1) (500, 32, 32, 1)\n"
          ],
          "name": "stdout"
        }
      ]
    },
    {
      "cell_type": "markdown",
      "metadata": {
        "id": "AWvQRG19uzZF"
      },
      "source": [
        "## 2.2 MNIST LABEL Array"
      ]
    },
    {
      "cell_type": "code",
      "metadata": {
        "colab": {
          "base_uri": "https://localhost:8080/"
        },
        "id": "FrMj2eGFusoa",
        "outputId": "33791af4-d458-4cde-8e96-c48d4a601811"
      },
      "source": [
        "y_train_list = []\r\n",
        "y_test_list = []\r\n",
        "for i, i_ in enumerate(y_train[:1000]):\r\n",
        "    zero = [0]*10\r\n",
        "    zero[i_] = 1\r\n",
        "    y_train_list.append(zero)\r\n",
        "\r\n",
        "for i, i_ in enumerate(y_test[:500]):\r\n",
        "    zero = [0]*10\r\n",
        "    zero[i_] = 1\r\n",
        "    y_test_list.append(zero)    \r\n",
        "    \r\n",
        "y_train1 = np.array(y_train_list)\r\n",
        "y_test1 = np.array(y_test_list)\r\n",
        "print(y_train1.shape, y_test1.shape)"
      ],
      "execution_count": 8,
      "outputs": [
        {
          "output_type": "stream",
          "text": [
            "(1000, 10) (500, 10)\n"
          ],
          "name": "stdout"
        }
      ]
    },
    {
      "cell_type": "markdown",
      "metadata": {
        "id": "x2-6RHzfvi0N"
      },
      "source": [
        "## 2.3 MNIST figure"
      ]
    },
    {
      "cell_type": "code",
      "metadata": {
        "colab": {
          "base_uri": "https://localhost:8080/",
          "height": 228
        },
        "id": "gM8fOyzMutQi",
        "outputId": "6ebb7414-4b60-4522-c7dd-1e2b845a32c5"
      },
      "source": [
        "plt.figure(figsize=(10,10))\r\n",
        "for i in range(3):\r\n",
        "    plt.subplot(1,3,i+1)\r\n",
        "    plt.imshow(x_train1[i][...,0], cmap='gray')\r\n",
        "    plt.title('Class = {}'.format(y_train[i]))"
      ],
      "execution_count": 9,
      "outputs": [
        {
          "output_type": "display_data",
          "data": {
            "image/png": "[encoded data removed]",
            "text/plain": [
              "<Figure size 720x720 with 3 Axes>"
            ]
          },
          "metadata": {
            "tags": [],
            "needs_background": "light"
          }
        }
      ]
    },
    {
      "cell_type": "markdown",
      "metadata": {
        "id": "7PsuhnRmvosv"
      },
      "source": [
        "# 3. VGG Model Build"
      ]
    },
    {
      "cell_type": "code",
      "metadata": {
        "id": "SQyNwsW7vhw0"
      },
      "source": [
        "def conv_block_2d(lr_conv, lr_num, par_list, bkn):\r\n",
        "        # parameter\r\n",
        "        filter_num = par_list[0]\r\n",
        "        conv_size = par_list[1]\r\n",
        "        conv_act = par_list[2]\r\n",
        "        pool_size = par_list[3]\r\n",
        "        # code\r\n",
        "        for i in range(lr_num):\r\n",
        "            lr_conv = layers.Conv2D(filter_num, conv_size, activation=None, padding='same', \r\n",
        "                                    kernel_initializer='he_normal',\r\n",
        "                                    name='block{}_conv{}'.format(bkn, i+1))(lr_conv)\r\n",
        "            lr_conv = layers.BatchNormalization(axis=-1, name='block{}_batchnorm{}'.format(bkn, i+1))(lr_conv)\r\n",
        "            lr_conv = layers.Activation(conv_act, name='block{}_activ{}'.format(bkn, i+1))(lr_conv)\r\n",
        "        lr_pool = layers.MaxPooling2D(pool_size=pool_size, name='block{}_pool'.format(bkn, i+1))(lr_conv)\r\n",
        "        return lr_pool\r\n",
        "\r\n",
        "def output_block(lr_dense, block_num, dens_count, act_func, drop_rate):\r\n",
        "    lr_dense = layers.Flatten(name='flatten_layer')(lr_dense)\r\n",
        "    for i in range(block_num):\r\n",
        "        lr_dense = layers.Dense(dens_count[i], kernel_regularizer=None,\r\n",
        "                                activation=act_func, name='classifier_dense_{}'.format(i+1))(lr_dense)\r\n",
        "        lr_dense = layers.Dropout(drop_rate, name='classifier_dropout_{}'.format(i+1))(lr_dense)\r\n",
        "    return lr_dense"
      ],
      "execution_count": 10,
      "outputs": []
    },
    {
      "cell_type": "code",
      "metadata": {
        "id": "YQ6tQ28ZwFmO"
      },
      "source": [
        "def VGG16_2D(par_dic):\r\n",
        "    # parameters\r\n",
        "    input_size = par_dic['input_size']\r\n",
        "    conv_size = par_dic['conv_size']\r\n",
        "    conv_act = par_dic['conv_act']\r\n",
        "    pool_size = par_dic['pool_size']\r\n",
        "    dens_num = par_dic['dens_num']\r\n",
        "    dens_count = par_dic['dens_count']\r\n",
        "    dens_act = par_dic['dens_act']\r\n",
        "    drop_out = par_dic['drop_out']\r\n",
        "    output_count = par_dic['output_count']\r\n",
        "    output_act = par_dic['output_act']\r\n",
        "\r\n",
        "    # code block\r\n",
        "    inputs = Input(shape=(input_size, input_size, 1), name='input_layer')\r\n",
        "    block1 = conv_block_2d(inputs, 2, [64, conv_size, conv_act, pool_size])\r\n",
        "    block2 = conv_block_2d(block1, 2, [128, conv_size, conv_act, pool_size])\r\n",
        "    block3 = conv_block_2d(block2, 3, [256, conv_size, conv_act, pool_size])\r\n",
        "    block4 = conv_block_2d(block3, 3, [512, conv_size, conv_act, pool_size])\r\n",
        "    block5 = conv_block_2d(block4, 3, [512, conv_size, conv_act, pool_size])\r\n",
        "    dens = output_block(block5, dens_num, dens_count, dens_act, drop_out)\r\n",
        "    outputs = layers.Dense(output_count, activation=output_act, name='output_layer')(dens)\r\n",
        "    model = Model(inputs, outputs)\r\n",
        "    return model"
      ],
      "execution_count": 11,
      "outputs": []
    },
    {
      "cell_type": "code",
      "metadata": {
        "id": "SEKz3nqgxYQQ"
      },
      "source": [
        "def VGG19_2D(par_dic):\r\n",
        "    # parameters\r\n",
        "    input_size = par_dic['input_size']\r\n",
        "    conv_size = par_dic['conv_size']\r\n",
        "    conv_act = par_dic['conv_act']\r\n",
        "    pool_size = par_dic['pool_size']\r\n",
        "    dens_num = par_dic['dens_num']\r\n",
        "    dens_count = par_dic['dens_count']\r\n",
        "    dens_act = par_dic['dens_act']\r\n",
        "    drop_out = par_dic['drop_out']\r\n",
        "    output_count = par_dic['output_count']\r\n",
        "    output_act = par_dic['output_act']\r\n",
        "\r\n",
        "    # code block\r\n",
        "    inputs = Input(shape=(input_size, input_size, 1))\r\n",
        "    block1 = conv_block_2d(inputs, 2, [64, conv_size, conv_act, pool_size])\r\n",
        "    block2 = conv_block_2d(block1, 2, [128, conv_size, conv_act, pool_size])\r\n",
        "    block3 = conv_block_2d(block2, 4, [256, conv_size, conv_act, pool_size])\r\n",
        "    block4 = conv_block_2d(block3, 4, [512, conv_size, conv_act, pool_size])\r\n",
        "    block5 = conv_block_2d(block4, 4, [512, conv_size, conv_act, pool_size])\r\n",
        "    dens = output_block(block5, dens_num, dens_count, dens_act, drop_out)\r\n",
        "    outputs = layers.Dense(output_count, activation=output_act)(dens)\r\n",
        "    model = Model(inputs, outputs)\r\n",
        "    return model"
      ],
      "execution_count": 12,
      "outputs": []
    },
    {
      "cell_type": "code",
      "metadata": {
        "id": "94txtM58xuKS"
      },
      "source": [
        "network_param_set = {'input_size': 32,\r\n",
        "                     'conv_size': 3,\r\n",
        "                     'conv_act': 'relu',\r\n",
        "                     'pool_size': 2,\r\n",
        "                     'dens_num': 2,\r\n",
        "                     'dens_count': [1000,500],\r\n",
        "                     'dens_act': 'relu',\r\n",
        "                     'drop_out': 0.5,\r\n",
        "                     'output_count': 10,\r\n",
        "                     'output_act': 'softmax'}"
      ],
      "execution_count": 13,
      "outputs": []
    },
    {
      "cell_type": "code",
      "metadata": {
        "colab": {
          "base_uri": "https://localhost:8080/"
        },
        "id": "87IRklsi0_t0",
        "outputId": "2bb705b3-4b29-4e86-81af-d66677b19bd0"
      },
      "source": [
        "model = VGG19_2D(network_param_set)\r\n",
        "model.summary()"
      ],
      "execution_count": 14,
      "outputs": [
        {
          "output_type": "stream",
          "text": [
            "Model: \"model\"\n",
            "_________________________________________________________________\n",
            "Layer (type)                 Output Shape              Param #   \n",
            "=================================================================\n",
            "input_1 (InputLayer)         [(None, 32, 32, 1)]       0         \n",
            "_________________________________________________________________\n",
            "conv2d (Conv2D)              (None, 32, 32, 64)        640       \n",
            "_________________________________________________________________\n",
            "batch_normalization (BatchNo (None, 32, 32, 64)        256       \n",
            "_________________________________________________________________\n",
            "activation (Activation)      (None, 32, 32, 64)        0         \n",
            "_________________________________________________________________\n",
            "conv2d_1 (Conv2D)            (None, 32, 32, 64)        36928     \n",
            "_________________________________________________________________\n",
            "batch_normalization_1 (Batch (None, 32, 32, 64)        256       \n",
            "_________________________________________________________________\n",
            "activation_1 (Activation)    (None, 32, 32, 64)        0         \n",
            "_________________________________________________________________\n",
            "max_pooling2d (MaxPooling2D) (None, 16, 16, 64)        0         \n",
            "_________________________________________________________________\n",
            "conv2d_2 (Conv2D)            (None, 16, 16, 128)       73856     \n",
            "_________________________________________________________________\n",
            "batch_normalization_2 (Batch (None, 16, 16, 128)       512       \n",
            "_________________________________________________________________\n",
            "activation_2 (Activation)    (None, 16, 16, 128)       0         \n",
            "_________________________________________________________________\n",
            "conv2d_3 (Conv2D)            (None, 16, 16, 128)       147584    \n",
            "_________________________________________________________________\n",
            "batch_normalization_3 (Batch (None, 16, 16, 128)       512       \n",
            "_________________________________________________________________\n",
            "activation_3 (Activation)    (None, 16, 16, 128)       0         \n",
            "_________________________________________________________________\n",
            "max_pooling2d_1 (MaxPooling2 (None, 8, 8, 128)         0         \n",
            "_________________________________________________________________\n",
            "conv2d_4 (Conv2D)            (None, 8, 8, 256)         295168    \n",
            "_________________________________________________________________\n",
            "batch_normalization_4 (Batch (None, 8, 8, 256)         1024      \n",
            "_________________________________________________________________\n",
            "activation_4 (Activation)    (None, 8, 8, 256)         0         \n",
            "_________________________________________________________________\n",
            "conv2d_5 (Conv2D)            (None, 8, 8, 256)         590080    \n",
            "_________________________________________________________________\n",
            "batch_normalization_5 (Batch (None, 8, 8, 256)         1024      \n",
            "_________________________________________________________________\n",
            "activation_5 (Activation)    (None, 8, 8, 256)         0         \n",
            "_________________________________________________________________\n",
            "conv2d_6 (Conv2D)            (None, 8, 8, 256)         590080    \n",
            "_________________________________________________________________\n",
            "batch_normalization_6 (Batch (None, 8, 8, 256)         1024      \n",
            "_________________________________________________________________\n",
            "activation_6 (Activation)    (None, 8, 8, 256)         0         \n",
            "_________________________________________________________________\n",
            "conv2d_7 (Conv2D)            (None, 8, 8, 256)         590080    \n",
            "_________________________________________________________________\n",
            "batch_normalization_7 (Batch (None, 8, 8, 256)         1024      \n",
            "_________________________________________________________________\n",
            "activation_7 (Activation)    (None, 8, 8, 256)         0         \n",
            "_________________________________________________________________\n",
            "max_pooling2d_2 (MaxPooling2 (None, 4, 4, 256)         0         \n",
            "_________________________________________________________________\n",
            "conv2d_8 (Conv2D)            (None, 4, 4, 512)         1180160   \n",
            "_________________________________________________________________\n",
            "batch_normalization_8 (Batch (None, 4, 4, 512)         2048      \n",
            "_________________________________________________________________\n",
            "activation_8 (Activation)    (None, 4, 4, 512)         0         \n",
            "_________________________________________________________________\n",
            "conv2d_9 (Conv2D)            (None, 4, 4, 512)         2359808   \n",
            "_________________________________________________________________\n",
            "batch_normalization_9 (Batch (None, 4, 4, 512)         2048      \n",
            "_________________________________________________________________\n",
            "activation_9 (Activation)    (None, 4, 4, 512)         0         \n",
            "_________________________________________________________________\n",
            "conv2d_10 (Conv2D)           (None, 4, 4, 512)         2359808   \n",
            "_________________________________________________________________\n",
            "batch_normalization_10 (Batc (None, 4, 4, 512)         2048      \n",
            "_________________________________________________________________\n",
            "activation_10 (Activation)   (None, 4, 4, 512)         0         \n",
            "_________________________________________________________________\n",
            "conv2d_11 (Conv2D)           (None, 4, 4, 512)         2359808   \n",
            "_________________________________________________________________\n",
            "batch_normalization_11 (Batc (None, 4, 4, 512)         2048      \n",
            "_________________________________________________________________\n",
            "activation_11 (Activation)   (None, 4, 4, 512)         0         \n",
            "_________________________________________________________________\n",
            "max_pooling2d_3 (MaxPooling2 (None, 2, 2, 512)         0         \n",
            "_________________________________________________________________\n",
            "conv2d_12 (Conv2D)           (None, 2, 2, 512)         2359808   \n",
            "_________________________________________________________________\n",
            "batch_normalization_12 (Batc (None, 2, 2, 512)         2048      \n",
            "_________________________________________________________________\n",
            "activation_12 (Activation)   (None, 2, 2, 512)         0         \n",
            "_________________________________________________________________\n",
            "conv2d_13 (Conv2D)           (None, 2, 2, 512)         2359808   \n",
            "_________________________________________________________________\n",
            "batch_normalization_13 (Batc (None, 2, 2, 512)         2048      \n",
            "_________________________________________________________________\n",
            "activation_13 (Activation)   (None, 2, 2, 512)         0         \n",
            "_________________________________________________________________\n",
            "conv2d_14 (Conv2D)           (None, 2, 2, 512)         2359808   \n",
            "_________________________________________________________________\n",
            "batch_normalization_14 (Batc (None, 2, 2, 512)         2048      \n",
            "_________________________________________________________________\n",
            "activation_14 (Activation)   (None, 2, 2, 512)         0         \n",
            "_________________________________________________________________\n",
            "conv2d_15 (Conv2D)           (None, 2, 2, 512)         2359808   \n",
            "_________________________________________________________________\n",
            "batch_normalization_15 (Batc (None, 2, 2, 512)         2048      \n",
            "_________________________________________________________________\n",
            "activation_15 (Activation)   (None, 2, 2, 512)         0         \n",
            "_________________________________________________________________\n",
            "max_pooling2d_4 (MaxPooling2 (None, 1, 1, 512)         0         \n",
            "_________________________________________________________________\n",
            "flatten (Flatten)            (None, 512)               0         \n",
            "_________________________________________________________________\n",
            "dense (Dense)                (None, 1000)              513000    \n",
            "_________________________________________________________________\n",
            "dropout (Dropout)            (None, 1000)              0         \n",
            "_________________________________________________________________\n",
            "dense_1 (Dense)              (None, 500)               500500    \n",
            "_________________________________________________________________\n",
            "dropout_1 (Dropout)          (None, 500)               0         \n",
            "_________________________________________________________________\n",
            "dense_2 (Dense)              (None, 10)                5010      \n",
            "=================================================================\n",
            "Total params: 21,063,758\n",
            "Trainable params: 21,052,750\n",
            "Non-trainable params: 11,008\n",
            "_________________________________________________________________\n"
          ],
          "name": "stdout"
        }
      ]
    },
    {
      "cell_type": "markdown",
      "metadata": {
        "id": "pRre4jFLxoXI"
      },
      "source": [
        "# 4. MNIST Training"
      ]
    },
    {
      "cell_type": "code",
      "metadata": {
        "id": "1jhKYdmd119b"
      },
      "source": [
        "model.compile(loss=losses.CategoricalCrossentropy(), optimizer=optimizers.Adam(lr=1e-5), metrics=['accuracy'])"
      ],
      "execution_count": 15,
      "outputs": []
    },
    {
      "cell_type": "code",
      "metadata": {
        "colab": {
          "base_uri": "https://localhost:8080/"
        },
        "id": "D3tXYPUV17YC",
        "outputId": "6f3c261e-5177-49b8-983e-cc69b567e28b"
      },
      "source": [
        "callback_list = [keras.callbacks.EarlyStopping(monitor='val_loss', patience=10),\r\n",
        "                         keras.callbacks.ModelCheckpoint(filepath=os.path.join('model.h5'),\r\n",
        "                                                         monitor='val_loss', save_best_only=True),\r\n",
        "                         keras.callbacks.ReduceLROnPlateau(monitor='val_loss', factor=0.1, patience=5)]\r\n",
        "\r\n",
        "history = model.fit(x_train1, y_train1, epochs=50, batch_size=32, \r\n",
        "                    validation_data=(x_test1, y_test1),\r\n",
        "                    callbacks=callback_list, shuffle=True)"
      ],
      "execution_count": 16,
      "outputs": [
        {
          "output_type": "stream",
          "text": [
            "Epoch 1/50\n",
            "32/32 [==============================] - 11s 76ms/step - loss: 3.2775 - accuracy: 0.1072 - val_loss: 2.3502 - val_accuracy: 0.0740\n",
            "Epoch 2/50\n",
            "32/32 [==============================] - 1s 47ms/step - loss: 2.7562 - accuracy: 0.1382 - val_loss: 2.3029 - val_accuracy: 0.0860\n",
            "Epoch 3/50\n",
            "32/32 [==============================] - 1s 47ms/step - loss: 2.3675 - accuracy: 0.1918 - val_loss: 2.2464 - val_accuracy: 0.1300\n",
            "Epoch 4/50\n",
            "32/32 [==============================] - 1s 47ms/step - loss: 2.3338 - accuracy: 0.2183 - val_loss: 2.1515 - val_accuracy: 0.2460\n",
            "Epoch 5/50\n",
            "32/32 [==============================] - 1s 47ms/step - loss: 1.9879 - accuracy: 0.3211 - val_loss: 2.0218 - val_accuracy: 0.3620\n",
            "Epoch 6/50\n",
            "32/32 [==============================] - 1s 47ms/step - loss: 1.8576 - accuracy: 0.3604 - val_loss: 1.8764 - val_accuracy: 0.4500\n",
            "Epoch 7/50\n",
            "32/32 [==============================] - 2s 51ms/step - loss: 1.6941 - accuracy: 0.4044 - val_loss: 1.7402 - val_accuracy: 0.5080\n",
            "Epoch 8/50\n",
            "32/32 [==============================] - 2s 47ms/step - loss: 1.5130 - accuracy: 0.4908 - val_loss: 1.6137 - val_accuracy: 0.5380\n",
            "Epoch 9/50\n",
            "32/32 [==============================] - 2s 49ms/step - loss: 1.4038 - accuracy: 0.4999 - val_loss: 1.5121 - val_accuracy: 0.5640\n",
            "Epoch 10/50\n",
            "32/32 [==============================] - 1s 47ms/step - loss: 1.2145 - accuracy: 0.5953 - val_loss: 1.4049 - val_accuracy: 0.6020\n",
            "Epoch 11/50\n",
            "32/32 [==============================] - 2s 49ms/step - loss: 1.1340 - accuracy: 0.6321 - val_loss: 1.3007 - val_accuracy: 0.6320\n",
            "Epoch 12/50\n",
            "32/32 [==============================] - 2s 49ms/step - loss: 1.0377 - accuracy: 0.6631 - val_loss: 1.1971 - val_accuracy: 0.6900\n",
            "Epoch 13/50\n",
            "32/32 [==============================] - 1s 47ms/step - loss: 0.8592 - accuracy: 0.7475 - val_loss: 1.1264 - val_accuracy: 0.6900\n",
            "Epoch 14/50\n",
            "32/32 [==============================] - 2s 50ms/step - loss: 0.7344 - accuracy: 0.7931 - val_loss: 1.0639 - val_accuracy: 0.7080\n",
            "Epoch 15/50\n",
            "32/32 [==============================] - 2s 49ms/step - loss: 0.6446 - accuracy: 0.8226 - val_loss: 0.9944 - val_accuracy: 0.7260\n",
            "Epoch 16/50\n",
            "32/32 [==============================] - 2s 47ms/step - loss: 0.5313 - accuracy: 0.8633 - val_loss: 0.9200 - val_accuracy: 0.7500\n",
            "Epoch 17/50\n",
            "32/32 [==============================] - 2s 49ms/step - loss: 0.5290 - accuracy: 0.8660 - val_loss: 0.8764 - val_accuracy: 0.7440\n",
            "Epoch 18/50\n",
            "32/32 [==============================] - 2s 50ms/step - loss: 0.4461 - accuracy: 0.8906 - val_loss: 0.8437 - val_accuracy: 0.7480\n",
            "Epoch 19/50\n",
            "32/32 [==============================] - 2s 49ms/step - loss: 0.4180 - accuracy: 0.8979 - val_loss: 0.8083 - val_accuracy: 0.7620\n",
            "Epoch 20/50\n",
            "32/32 [==============================] - 2s 48ms/step - loss: 0.3243 - accuracy: 0.9425 - val_loss: 0.7612 - val_accuracy: 0.7680\n",
            "Epoch 21/50\n",
            "32/32 [==============================] - 2s 50ms/step - loss: 0.2527 - accuracy: 0.9533 - val_loss: 0.7121 - val_accuracy: 0.7940\n",
            "Epoch 22/50\n",
            "32/32 [==============================] - 2s 49ms/step - loss: 0.2560 - accuracy: 0.9514 - val_loss: 0.6846 - val_accuracy: 0.7980\n",
            "Epoch 23/50\n",
            "32/32 [==============================] - 2s 49ms/step - loss: 0.2474 - accuracy: 0.9484 - val_loss: 0.6831 - val_accuracy: 0.7860\n",
            "Epoch 24/50\n",
            "32/32 [==============================] - 2s 49ms/step - loss: 0.2240 - accuracy: 0.9605 - val_loss: 0.6659 - val_accuracy: 0.8020\n",
            "Epoch 25/50\n",
            "32/32 [==============================] - 2s 50ms/step - loss: 0.1550 - accuracy: 0.9730 - val_loss: 0.6260 - val_accuracy: 0.8160\n",
            "Epoch 26/50\n",
            "32/32 [==============================] - 2s 50ms/step - loss: 0.1547 - accuracy: 0.9762 - val_loss: 0.6082 - val_accuracy: 0.8140\n",
            "Epoch 27/50\n",
            "32/32 [==============================] - 2s 51ms/step - loss: 0.1375 - accuracy: 0.9832 - val_loss: 0.6007 - val_accuracy: 0.8100\n",
            "Epoch 28/50\n",
            "32/32 [==============================] - 2s 50ms/step - loss: 0.1362 - accuracy: 0.9738 - val_loss: 0.5809 - val_accuracy: 0.8240\n",
            "Epoch 29/50\n",
            "32/32 [==============================] - 2s 50ms/step - loss: 0.1237 - accuracy: 0.9870 - val_loss: 0.5614 - val_accuracy: 0.8240\n",
            "Epoch 30/50\n",
            "32/32 [==============================] - 2s 51ms/step - loss: 0.1068 - accuracy: 0.9844 - val_loss: 0.5530 - val_accuracy: 0.8260\n",
            "Epoch 31/50\n",
            "32/32 [==============================] - 2s 49ms/step - loss: 0.0826 - accuracy: 0.9907 - val_loss: 0.5438 - val_accuracy: 0.8340\n",
            "Epoch 32/50\n",
            "32/32 [==============================] - 2s 50ms/step - loss: 0.0942 - accuracy: 0.9874 - val_loss: 0.5310 - val_accuracy: 0.8440\n",
            "Epoch 33/50\n",
            "32/32 [==============================] - 5s 148ms/step - loss: 0.0702 - accuracy: 0.9990 - val_loss: 0.5321 - val_accuracy: 0.8360\n",
            "Epoch 34/50\n",
            "32/32 [==============================] - 2s 48ms/step - loss: 0.0747 - accuracy: 0.9872 - val_loss: 0.5416 - val_accuracy: 0.8240\n",
            "Epoch 35/50\n",
            "32/32 [==============================] - 2s 48ms/step - loss: 0.0611 - accuracy: 0.9906 - val_loss: 0.5251 - val_accuracy: 0.8300\n",
            "Epoch 36/50\n",
            "32/32 [==============================] - 2s 48ms/step - loss: 0.0660 - accuracy: 0.9928 - val_loss: 0.5275 - val_accuracy: 0.8280\n",
            "Epoch 37/50\n",
            "32/32 [==============================] - 2s 48ms/step - loss: 0.0559 - accuracy: 0.9961 - val_loss: 0.5420 - val_accuracy: 0.8200\n",
            "Epoch 38/50\n",
            "32/32 [==============================] - 2s 49ms/step - loss: 0.0486 - accuracy: 0.9879 - val_loss: 0.5049 - val_accuracy: 0.8360\n",
            "Epoch 39/50\n",
            "32/32 [==============================] - 2s 49ms/step - loss: 0.0481 - accuracy: 0.9992 - val_loss: 0.4799 - val_accuracy: 0.8540\n",
            "Epoch 40/50\n",
            "32/32 [==============================] - 2s 50ms/step - loss: 0.0398 - accuracy: 0.9982 - val_loss: 0.4668 - val_accuracy: 0.8560\n",
            "Epoch 41/50\n",
            "32/32 [==============================] - 2s 49ms/step - loss: 0.0386 - accuracy: 0.9999 - val_loss: 0.4596 - val_accuracy: 0.8620\n",
            "Epoch 42/50\n",
            "32/32 [==============================] - 2s 51ms/step - loss: 0.0377 - accuracy: 0.9991 - val_loss: 0.4646 - val_accuracy: 0.8480\n",
            "Epoch 43/50\n",
            "32/32 [==============================] - 2s 49ms/step - loss: 0.0378 - accuracy: 0.9960 - val_loss: 0.4523 - val_accuracy: 0.8640\n",
            "Epoch 44/50\n",
            "32/32 [==============================] - 2s 51ms/step - loss: 0.0366 - accuracy: 0.9953 - val_loss: 0.4699 - val_accuracy: 0.8500\n",
            "Epoch 45/50\n",
            "32/32 [==============================] - 2s 50ms/step - loss: 0.0311 - accuracy: 0.9979 - val_loss: 0.4705 - val_accuracy: 0.8440\n",
            "Epoch 46/50\n",
            "32/32 [==============================] - 2s 49ms/step - loss: 0.0262 - accuracy: 0.9964 - val_loss: 0.4619 - val_accuracy: 0.8540\n",
            "Epoch 47/50\n",
            "32/32 [==============================] - 2s 49ms/step - loss: 0.0385 - accuracy: 0.9972 - val_loss: 0.4510 - val_accuracy: 0.8580\n",
            "Epoch 48/50\n",
            "32/32 [==============================] - 2s 49ms/step - loss: 0.0263 - accuracy: 1.0000 - val_loss: 0.4477 - val_accuracy: 0.8520\n",
            "Epoch 49/50\n",
            "32/32 [==============================] - 2s 51ms/step - loss: 0.0269 - accuracy: 0.9961 - val_loss: 0.4489 - val_accuracy: 0.8580\n",
            "Epoch 50/50\n",
            "32/32 [==============================] - 2s 49ms/step - loss: 0.0229 - accuracy: 0.9960 - val_loss: 0.4647 - val_accuracy: 0.8480\n"
          ],
          "name": "stdout"
        }
      ]
    },
    {
      "cell_type": "markdown",
      "metadata": {
        "id": "BVbOLIN1kFq4"
      },
      "source": [
        "# 5. Train Result"
      ]
    },
    {
      "cell_type": "markdown",
      "metadata": {
        "id": "mPK_eXBMkLou"
      },
      "source": [
        "## 5.1. Loss & Accuracy"
      ]
    },
    {
      "cell_type": "code",
      "metadata": {
        "id": "hPAPGT9XkC0a"
      },
      "source": [
        "acc = history.history['accuracy']\r\n",
        "val_acc = history.history['val_accuracy']\r\n",
        "loss = history.history['loss']\r\n",
        "val_loss = history.history['val_loss']\r\n",
        "epochs = range(1,len(acc)+1)"
      ],
      "execution_count": 19,
      "outputs": []
    },
    {
      "cell_type": "code",
      "metadata": {
        "id": "w8uaVegLksW4",
        "outputId": "72c6db52-1ebd-4d00-9e50-77d83cdfd404",
        "colab": {
          "base_uri": "https://localhost:8080/",
          "height": 545
        }
      },
      "source": [
        "plt.plot(epochs, acc, 'b', color='blue', label='Training acc')\r\n",
        "plt.plot(epochs, val_acc, 'b', color='red', label='Validation acc')\r\n",
        "plt.title('Training and validation accuracy')\r\n",
        "plt.legend()\r\n",
        "\r\n",
        "plt.figure()\r\n",
        "\r\n",
        "plt.plot(epochs, loss, 'b', color='blue', label='Training loss')\r\n",
        "plt.plot(epochs, val_loss, 'b', color='red', label='Validation loss')\r\n",
        "plt.title('Training and validation loss')\r\n",
        "plt.legend()\r\n",
        "\r\n",
        "plt.show()"
      ],
      "execution_count": 20,
      "outputs": [
        {
          "output_type": "display_data",
          "data": {
            "image/png": "[encoded data removed]",
            "text/plain": [
              "<Figure size 432x288 with 1 Axes>"
            ]
          },
          "metadata": {
            "tags": [],
            "needs_background": "light"
          }
        },
        {
          "output_type": "display_data",
          "data": {
            "image/png": "[encoded data removed]",
            "text/plain": [
              "<Figure size 432x288 with 1 Axes>"
            ]
          },
          "metadata": {
            "tags": [],
            "needs_background": "light"
          }
        }
      ]
    },
    {
      "cell_type": "markdown",
      "metadata": {
        "id": "MD0WC69Fk7af"
      },
      "source": [
        "##5.2. Prediction Result"
      ]
    },
    {
      "cell_type": "code",
      "metadata": {
        "id": "gQL2Tcuak_86",
        "outputId": "bde89fea-ef22-4200-fa34-b8cffee91942",
        "colab": {
          "base_uri": "https://localhost:8080/",
          "height": 302
        }
      },
      "source": [
        "test1 = x_test1[0]\r\n",
        "print(test1.shape)\r\n",
        "plt.imshow(test1[...,0])"
      ],
      "execution_count": 33,
      "outputs": [
        {
          "output_type": "stream",
          "text": [
            "(32, 32, 1)\n"
          ],
          "name": "stdout"
        },
        {
          "output_type": "execute_result",
          "data": {
            "text/plain": [
              "<matplotlib.image.AxesImage at 0x7fbb760f6940>"
            ]
          },
          "metadata": {
            "tags": []
          },
          "execution_count": 33
        },
        {
          "output_type": "display_data",
          "data": {
            "image/png": "[encoded data removed]",
            "text/plain": [
              "<Figure size 432x288 with 1 Axes>"
            ]
          },
          "metadata": {
            "tags": [],
            "needs_background": "light"
          }
        }
      ]
    },
    {
      "cell_type": "code",
      "metadata": {
        "id": "HOqgXtWqlX11",
        "outputId": "e39c4800-e1a7-405f-d6b9-6dc8207d5ac2",
        "colab": {
          "base_uri": "https://localhost:8080/"
        }
      },
      "source": [
        "test1p = test1[np.newaxis,...]\r\n",
        "score1 = model.predict(test1p)\r\n",
        "print(test1p.shape)\r\n",
        "print(score1)\r\n",
        "\r\n",
        "new_score1 = []\r\n",
        "for i, i_ in enumerate(score1[0]):\r\n",
        "  if i_ < 0.5:\r\n",
        "    new_score1.append(0)\r\n",
        "  else:\r\n",
        "    new_score1.append(1)\r\n",
        "  \r\n",
        "print(new_score1)"
      ],
      "execution_count": 40,
      "outputs": [
        {
          "output_type": "stream",
          "text": [
            "(1, 32, 32, 1)\n",
            "[[2.3480409e-06 5.0351198e-05 1.7237573e-05 6.4310775e-06 1.5670896e-05\n",
            "  2.5316976e-06 8.8501220e-06 9.9988091e-01 4.0981736e-06 1.1501858e-05]]\n",
            "[0, 0, 0, 0, 0, 0, 0, 1, 0, 0]\n"
          ],
          "name": "stdout"
        }
      ]
    },
    {
      "cell_type": "markdown",
      "metadata": {
        "id": "YsqVifQSmj7y"
      },
      "source": [
        "## 5.3. Class Attention Map"
      ]
    },
    {
      "cell_type": "code",
      "metadata": {
        "id": "FxmxsVnfqVtC",
        "outputId": "9520d286-c67e-41cd-dfbc-c0ac8d9302d1",
        "colab": {
          "base_uri": "https://localhost:8080/"
        }
      },
      "source": [
        "from keras.applications.vgg16 import VGG16\r\n",
        "image_model = VGG16(weights='imagenet')"
      ],
      "execution_count": 55,
      "outputs": [
        {
          "output_type": "stream",
          "text": [
            "Downloading data from https://storage.googleapis.com/tensorflow/keras-applications/vgg16/vgg16_weights_tf_dim_ordering_tf_kernels.h5\n",
            "553467904/553467096 [==============================] - 5s 0us/step\n"
          ],
          "name": "stdout"
        }
      ]
    },
    {
      "cell_type": "code",
      "metadata": {
        "id": "eW8GikE6qoXb",
        "outputId": "9c6745c5-929f-4f33-ed97-9ae4a778f8bf",
        "colab": {
          "base_uri": "https://localhost:8080/",
          "height": 389
        }
      },
      "source": [
        "elephants = image_model.output[:, 386]\r\n",
        "image_conv_layer = image_model.get_layer('block5_conv3')\r\n",
        "print(elephants)\r\n",
        "grads = K.gradients(elephants, image_conv_layer.output)[0]"
      ],
      "execution_count": 62,
      "outputs": [
        {
          "output_type": "stream",
          "text": [
            "KerasTensor(type_spec=TensorSpec(shape=(None,), dtype=tf.float32, name=None), name='tf.__operators__.getitem_14/strided_slice:0', description=\"created by layer 'tf.__operators__.getitem_14'\")\n"
          ],
          "name": "stdout"
        },
        {
          "output_type": "error",
          "ename": "RuntimeError",
          "evalue": "ignored",
          "traceback": [
            "\u001b[0;31m---------------------------------------------------------------------------\u001b[0m",
            "\u001b[0;31mRuntimeError\u001b[0m                              Traceback (most recent call last)",
            "\u001b[0;32m<ipython-input-62-0fcebd9fc14a>\u001b[0m in \u001b[0;36m<module>\u001b[0;34m()\u001b[0m\n\u001b[1;32m      2\u001b[0m \u001b[0mimage_conv_layer\u001b[0m \u001b[0;34m=\u001b[0m \u001b[0mimage_model\u001b[0m\u001b[0;34m.\u001b[0m\u001b[0mget_layer\u001b[0m\u001b[0;34m(\u001b[0m\u001b[0;34m'block5_conv3'\u001b[0m\u001b[0;34m)\u001b[0m\u001b[0;34m\u001b[0m\u001b[0;34m\u001b[0m\u001b[0m\n\u001b[1;32m      3\u001b[0m \u001b[0mprint\u001b[0m\u001b[0;34m(\u001b[0m\u001b[0melephants\u001b[0m\u001b[0;34m)\u001b[0m\u001b[0;34m\u001b[0m\u001b[0;34m\u001b[0m\u001b[0m\n\u001b[0;32m----> 4\u001b[0;31m \u001b[0mgrads\u001b[0m \u001b[0;34m=\u001b[0m \u001b[0mK\u001b[0m\u001b[0;34m.\u001b[0m\u001b[0mgradients\u001b[0m\u001b[0;34m(\u001b[0m\u001b[0melephants\u001b[0m\u001b[0;34m,\u001b[0m \u001b[0mimage_conv_layer\u001b[0m\u001b[0;34m.\u001b[0m\u001b[0moutput\u001b[0m\u001b[0;34m)\u001b[0m\u001b[0;34m[\u001b[0m\u001b[0;36m0\u001b[0m\u001b[0;34m]\u001b[0m\u001b[0;34m\u001b[0m\u001b[0;34m\u001b[0m\u001b[0m\n\u001b[0m",
            "\u001b[0;32m/usr/local/lib/python3.6/dist-packages/tensorflow/python/keras/backend.py\u001b[0m in \u001b[0;36mgradients\u001b[0;34m(loss, variables)\u001b[0m\n\u001b[1;32m   4101\u001b[0m   \"\"\"\n\u001b[1;32m   4102\u001b[0m   return gradients_module.gradients(\n\u001b[0;32m-> 4103\u001b[0;31m       loss, variables, colocate_gradients_with_ops=True)\n\u001b[0m\u001b[1;32m   4104\u001b[0m \u001b[0;34m\u001b[0m\u001b[0m\n\u001b[1;32m   4105\u001b[0m \u001b[0;34m\u001b[0m\u001b[0m\n",
            "\u001b[0;32m/usr/local/lib/python3.6/dist-packages/tensorflow/python/ops/gradients_impl.py\u001b[0m in \u001b[0;36mgradients\u001b[0;34m(ys, xs, grad_ys, name, colocate_gradients_with_ops, gate_gradients, aggregation_method, stop_gradients, unconnected_gradients)\u001b[0m\n\u001b[1;32m    170\u001b[0m         \u001b[0mys\u001b[0m\u001b[0;34m,\u001b[0m \u001b[0mxs\u001b[0m\u001b[0;34m,\u001b[0m \u001b[0mgrad_ys\u001b[0m\u001b[0;34m,\u001b[0m \u001b[0mname\u001b[0m\u001b[0;34m,\u001b[0m \u001b[0mcolocate_gradients_with_ops\u001b[0m\u001b[0;34m,\u001b[0m\u001b[0;34m\u001b[0m\u001b[0;34m\u001b[0m\u001b[0m\n\u001b[1;32m    171\u001b[0m         \u001b[0mgate_gradients\u001b[0m\u001b[0;34m,\u001b[0m \u001b[0maggregation_method\u001b[0m\u001b[0;34m,\u001b[0m \u001b[0mstop_gradients\u001b[0m\u001b[0;34m,\u001b[0m\u001b[0;34m\u001b[0m\u001b[0;34m\u001b[0m\u001b[0m\n\u001b[0;32m--> 172\u001b[0;31m         unconnected_gradients)\n\u001b[0m\u001b[1;32m    173\u001b[0m   \u001b[0;31m# pylint: enable=protected-access\u001b[0m\u001b[0;34m\u001b[0m\u001b[0;34m\u001b[0m\u001b[0;34m\u001b[0m\u001b[0m\n\u001b[1;32m    174\u001b[0m \u001b[0;34m\u001b[0m\u001b[0m\n",
            "\u001b[0;32m/usr/local/lib/python3.6/dist-packages/tensorflow/python/ops/gradients_util.py\u001b[0m in \u001b[0;36m_GradientsHelper\u001b[0;34m(ys, xs, grad_ys, name, colocate_gradients_with_ops, gate_gradients, aggregation_method, stop_gradients, unconnected_gradients, src_graph)\u001b[0m\n\u001b[1;32m    490\u001b[0m   \u001b[0;34m\"\"\"Implementation of gradients().\"\"\"\u001b[0m\u001b[0;34m\u001b[0m\u001b[0;34m\u001b[0m\u001b[0m\n\u001b[1;32m    491\u001b[0m   \u001b[0;32mif\u001b[0m \u001b[0mcontext\u001b[0m\u001b[0;34m.\u001b[0m\u001b[0mexecuting_eagerly\u001b[0m\u001b[0;34m(\u001b[0m\u001b[0;34m)\u001b[0m\u001b[0;34m:\u001b[0m\u001b[0;34m\u001b[0m\u001b[0;34m\u001b[0m\u001b[0m\n\u001b[0;32m--> 492\u001b[0;31m     raise RuntimeError(\"tf.gradients is not supported when eager execution \"\n\u001b[0m\u001b[1;32m    493\u001b[0m                        \"is enabled. Use tf.GradientTape instead.\")\n\u001b[1;32m    494\u001b[0m   \u001b[0;32mif\u001b[0m \u001b[0msrc_graph\u001b[0m \u001b[0;32mis\u001b[0m \u001b[0;32mNone\u001b[0m\u001b[0;34m:\u001b[0m\u001b[0;34m\u001b[0m\u001b[0;34m\u001b[0m\u001b[0m\n",
            "\u001b[0;31mRuntimeError\u001b[0m: tf.gradients is not supported when eager execution is enabled. Use tf.GradientTape instead."
          ]
        }
      ]
    },
    {
      "cell_type": "code",
      "metadata": {
        "id": "R6ExbeAFlkyL",
        "outputId": "8ffc0be7-4f14-43b4-bc40-2e5cdf68267e",
        "colab": {
          "base_uri": "https://localhost:8080/",
          "height": 389
        }
      },
      "source": [
        "seven_output = model.output[:, 7]\r\n",
        "last_conv_layer = model.get_layer('conv2d_15')\r\n",
        "\r\n",
        "print(seven_output)\r\n",
        "\r\n",
        "grads = K.gradients(elephants, last_conv_layer.output)[0]"
      ],
      "execution_count": 58,
      "outputs": [
        {
          "output_type": "stream",
          "text": [
            "KerasTensor(type_spec=TensorSpec(shape=(None,), dtype=tf.float32, name=None), name='tf.__operators__.getitem_11/strided_slice:0', description=\"created by layer 'tf.__operators__.getitem_11'\")\n"
          ],
          "name": "stdout"
        },
        {
          "output_type": "error",
          "ename": "RuntimeError",
          "evalue": "ignored",
          "traceback": [
            "\u001b[0;31m---------------------------------------------------------------------------\u001b[0m",
            "\u001b[0;31mRuntimeError\u001b[0m                              Traceback (most recent call last)",
            "\u001b[0;32m<ipython-input-58-67ba3b789392>\u001b[0m in \u001b[0;36m<module>\u001b[0;34m()\u001b[0m\n\u001b[1;32m      4\u001b[0m \u001b[0mprint\u001b[0m\u001b[0;34m(\u001b[0m\u001b[0mseven_output\u001b[0m\u001b[0;34m)\u001b[0m\u001b[0;34m\u001b[0m\u001b[0;34m\u001b[0m\u001b[0m\n\u001b[1;32m      5\u001b[0m \u001b[0;34m\u001b[0m\u001b[0m\n\u001b[0;32m----> 6\u001b[0;31m \u001b[0mgrads\u001b[0m \u001b[0;34m=\u001b[0m \u001b[0mK\u001b[0m\u001b[0;34m.\u001b[0m\u001b[0mgradients\u001b[0m\u001b[0;34m(\u001b[0m\u001b[0melephants\u001b[0m\u001b[0;34m,\u001b[0m \u001b[0mlast_conv_layer\u001b[0m\u001b[0;34m.\u001b[0m\u001b[0moutput\u001b[0m\u001b[0;34m)\u001b[0m\u001b[0;34m[\u001b[0m\u001b[0;36m0\u001b[0m\u001b[0;34m]\u001b[0m\u001b[0;34m\u001b[0m\u001b[0;34m\u001b[0m\u001b[0m\n\u001b[0m",
            "\u001b[0;32m/usr/local/lib/python3.6/dist-packages/tensorflow/python/keras/backend.py\u001b[0m in \u001b[0;36mgradients\u001b[0;34m(loss, variables)\u001b[0m\n\u001b[1;32m   4101\u001b[0m   \"\"\"\n\u001b[1;32m   4102\u001b[0m   return gradients_module.gradients(\n\u001b[0;32m-> 4103\u001b[0;31m       loss, variables, colocate_gradients_with_ops=True)\n\u001b[0m\u001b[1;32m   4104\u001b[0m \u001b[0;34m\u001b[0m\u001b[0m\n\u001b[1;32m   4105\u001b[0m \u001b[0;34m\u001b[0m\u001b[0m\n",
            "\u001b[0;32m/usr/local/lib/python3.6/dist-packages/tensorflow/python/ops/gradients_impl.py\u001b[0m in \u001b[0;36mgradients\u001b[0;34m(ys, xs, grad_ys, name, colocate_gradients_with_ops, gate_gradients, aggregation_method, stop_gradients, unconnected_gradients)\u001b[0m\n\u001b[1;32m    170\u001b[0m         \u001b[0mys\u001b[0m\u001b[0;34m,\u001b[0m \u001b[0mxs\u001b[0m\u001b[0;34m,\u001b[0m \u001b[0mgrad_ys\u001b[0m\u001b[0;34m,\u001b[0m \u001b[0mname\u001b[0m\u001b[0;34m,\u001b[0m \u001b[0mcolocate_gradients_with_ops\u001b[0m\u001b[0;34m,\u001b[0m\u001b[0;34m\u001b[0m\u001b[0;34m\u001b[0m\u001b[0m\n\u001b[1;32m    171\u001b[0m         \u001b[0mgate_gradients\u001b[0m\u001b[0;34m,\u001b[0m \u001b[0maggregation_method\u001b[0m\u001b[0;34m,\u001b[0m \u001b[0mstop_gradients\u001b[0m\u001b[0;34m,\u001b[0m\u001b[0;34m\u001b[0m\u001b[0;34m\u001b[0m\u001b[0m\n\u001b[0;32m--> 172\u001b[0;31m         unconnected_gradients)\n\u001b[0m\u001b[1;32m    173\u001b[0m   \u001b[0;31m# pylint: enable=protected-access\u001b[0m\u001b[0;34m\u001b[0m\u001b[0;34m\u001b[0m\u001b[0;34m\u001b[0m\u001b[0m\n\u001b[1;32m    174\u001b[0m \u001b[0;34m\u001b[0m\u001b[0m\n",
            "\u001b[0;32m/usr/local/lib/python3.6/dist-packages/tensorflow/python/ops/gradients_util.py\u001b[0m in \u001b[0;36m_GradientsHelper\u001b[0;34m(ys, xs, grad_ys, name, colocate_gradients_with_ops, gate_gradients, aggregation_method, stop_gradients, unconnected_gradients, src_graph)\u001b[0m\n\u001b[1;32m    490\u001b[0m   \u001b[0;34m\"\"\"Implementation of gradients().\"\"\"\u001b[0m\u001b[0;34m\u001b[0m\u001b[0;34m\u001b[0m\u001b[0m\n\u001b[1;32m    491\u001b[0m   \u001b[0;32mif\u001b[0m \u001b[0mcontext\u001b[0m\u001b[0;34m.\u001b[0m\u001b[0mexecuting_eagerly\u001b[0m\u001b[0;34m(\u001b[0m\u001b[0;34m)\u001b[0m\u001b[0;34m:\u001b[0m\u001b[0;34m\u001b[0m\u001b[0;34m\u001b[0m\u001b[0m\n\u001b[0;32m--> 492\u001b[0;31m     raise RuntimeError(\"tf.gradients is not supported when eager execution \"\n\u001b[0m\u001b[1;32m    493\u001b[0m                        \"is enabled. Use tf.GradientTape instead.\")\n\u001b[1;32m    494\u001b[0m   \u001b[0;32mif\u001b[0m \u001b[0msrc_graph\u001b[0m \u001b[0;32mis\u001b[0m \u001b[0;32mNone\u001b[0m\u001b[0;34m:\u001b[0m\u001b[0;34m\u001b[0m\u001b[0;34m\u001b[0m\u001b[0m\n",
            "\u001b[0;31mRuntimeError\u001b[0m: tf.gradients is not supported when eager execution is enabled. Use tf.GradientTape instead."
          ]
        }
      ]
    },
    {
      "cell_type": "code",
      "metadata": {
        "id": "Dwn_3iaRoJJz"
      },
      "source": [
        ""
      ],
      "execution_count": null,
      "outputs": []
    }
  ]
}