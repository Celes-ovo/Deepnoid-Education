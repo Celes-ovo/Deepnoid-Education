{
  "nbformat": 4,
  "nbformat_minor": 0,
  "metadata": {
    "colab": {
      "name": "Result_Visulization.ipynb",
      "provenance": [],
      "authorship_tag": "ABX9TyPib49TYtRNXXnaVUdbLnAP",
      "include_colab_link": true
    },
    "kernelspec": {
      "name": "python3",
      "display_name": "Python 3"
    },
    "accelerator": "GPU"
  },
  "cells": [
    {
      "cell_type": "markdown",
      "metadata": {
        "id": "view-in-github",
        "colab_type": "text"
      },
      "source": [
        "<a href=\"https://colab.research.google.com/github/Pulsar-kkaturi/Deepnoid-Education/blob/master/notebooks/Result_Visulization.ipynb\" target=\"_parent\"><img src=\"https://colab.research.google.com/assets/colab-badge.svg\" alt=\"Open In Colab\"/></a>"
      ]
    },
    {
      "cell_type": "markdown",
      "metadata": {
        "id": "37DOVvDMm-_A"
      },
      "source": [
        "# Result Visulization (결과 시각화)"
      ]
    },
    {
      "cell_type": "markdown",
      "metadata": {
        "id": "Q4XY8H1nnFe_"
      },
      "source": [
        "# 1. Library Import"
      ]
    },
    {
      "cell_type": "code",
      "metadata": {
        "id": "-vEPrq0skcWj"
      },
      "source": [
        "import os, matplotlib, csv, shutil, json\r\n",
        "import numpy as np\r\n",
        "import matplotlib\r\n",
        "from matplotlib import pyplot as plt\r\n",
        "import pandas as pd\r\n",
        "\r\n",
        "\r\n",
        "### Tensorflow 2.0 ###\r\n",
        "import tensorflow as tf\r\n",
        "from tensorflow import keras\r\n",
        "from tensorflow.keras.models import Sequential, Model\r\n",
        "from tensorflow.keras import Input\r\n",
        "from tensorflow.keras import layers\r\n",
        "from tensorflow.keras import models\r\n",
        "from tensorflow.keras.preprocessing import image\r\n",
        "from tensorflow.keras.preprocessing.image import ImageDataGenerator\r\n",
        "from tensorflow.keras import losses\r\n",
        "from tensorflow.keras import optimizers\r\n",
        "from tensorflow.keras import metrics\r\n",
        "from tensorflow.keras import regularizers\r\n",
        "from tensorflow.keras import utils\r\n",
        "from tensorflow.keras.callbacks import ModelCheckpoint, LearningRateScheduler"
      ],
      "execution_count": 1,
      "outputs": []
    },
    {
      "cell_type": "markdown",
      "metadata": {
        "id": "78f6Q_C-8dnh"
      },
      "source": [
        "# 2. 데이터셋 로딩"
      ]
    },
    {
      "cell_type": "code",
      "metadata": {
        "colab": {
          "base_uri": "https://localhost:8080/"
        },
        "id": "HwNtiL33oGpZ",
        "outputId": "44571b0b-348a-4b7a-e327-c6ab7d63a177"
      },
      "source": [
        "(x_train, y_train), (x_test, y_test)=keras.datasets.mnist.load_data(path='minist.npz')\r\n"
      ],
      "execution_count": 2,
      "outputs": [
        {
          "output_type": "stream",
          "text": [
            "Downloading data from https://storage.googleapis.com/tensorflow/tf-keras-datasets/mnist.npz\n",
            "11493376/11490434 [==============================] - 0s 0us/step\n"
          ],
          "name": "stdout"
        }
      ]
    },
    {
      "cell_type": "code",
      "metadata": {
        "colab": {
          "base_uri": "https://localhost:8080/"
        },
        "id": "wP8qLluRuV2O",
        "outputId": "d90746a1-db1c-447c-9721-3725882d712a"
      },
      "source": [
        "print(x_train.shape, y_train.shape)"
      ],
      "execution_count": 3,
      "outputs": [
        {
          "output_type": "stream",
          "text": [
            "(60000, 28, 28) (60000,)\n"
          ],
          "name": "stdout"
        }
      ]
    },
    {
      "cell_type": "markdown",
      "metadata": {
        "id": "1hkS7G1ruu5q"
      },
      "source": [
        "# 2.1 MNIST Image Array"
      ]
    },
    {
      "cell_type": "code",
      "metadata": {
        "colab": {
          "base_uri": "https://localhost:8080/"
        },
        "id": "7UHKqWuXuWuu",
        "outputId": "3fb07d1a-6adc-44eb-8fe4-77e1b1465146"
      },
      "source": [
        "x_train_list = []\r\n",
        "x_test_list = []\r\n",
        "for i, i_ in enumerate(x_train[:2000]):\r\n",
        "    arr = np.zeros(shape=(32, 32))\r\n",
        "    arr[:28,:28] = x_train[i]\r\n",
        "    x_train_list.append(arr)\r\n",
        "for i, i_ in enumerate(x_test[:500]):\r\n",
        "    arr = np.zeros(shape=(32, 32))\r\n",
        "    arr[:28,:28] = x_test[i]\r\n",
        "    x_test_list.append(arr)\r\n",
        "\r\n",
        "x_train1 = np.expand_dims(np.array(x_train_list), axis=-1)\r\n",
        "x_test1 = np.expand_dims(np.array(x_test_list), axis=-1)\r\n",
        "print(x_train1.shape, x_test1.shape)"
      ],
      "execution_count": 4,
      "outputs": [
        {
          "output_type": "stream",
          "text": [
            "(2000, 32, 32, 1) (500, 32, 32, 1)\n"
          ],
          "name": "stdout"
        }
      ]
    },
    {
      "cell_type": "markdown",
      "metadata": {
        "id": "AWvQRG19uzZF"
      },
      "source": [
        "## 2.2 MNIST LABEL Array"
      ]
    },
    {
      "cell_type": "code",
      "metadata": {
        "colab": {
          "base_uri": "https://localhost:8080/"
        },
        "id": "FrMj2eGFusoa",
        "outputId": "47ac121b-5f46-4f0b-d1d8-f639cfc5a2b0"
      },
      "source": [
        "y_train_list = []\r\n",
        "y_test_list = []\r\n",
        "for i, i_ in enumerate(y_train[:2000]):\r\n",
        "    zero = [0]*10\r\n",
        "    zero[i_] = 1\r\n",
        "    y_train_list.append(zero)\r\n",
        "\r\n",
        "for i, i_ in enumerate(y_test[:500]):\r\n",
        "    zero = [0]*10\r\n",
        "    zero[i_] = 1\r\n",
        "    y_test_list.append(zero)    \r\n",
        "    \r\n",
        "y_train1 = np.array(y_train_list)\r\n",
        "y_test1 = np.array(y_test_list)\r\n",
        "print(y_train1.shape, y_test1.shape)"
      ],
      "execution_count": 5,
      "outputs": [
        {
          "output_type": "stream",
          "text": [
            "(2000, 10) (500, 10)\n"
          ],
          "name": "stdout"
        }
      ]
    },
    {
      "cell_type": "markdown",
      "metadata": {
        "id": "x2-6RHzfvi0N"
      },
      "source": [
        "## 2.3 MNIST figure"
      ]
    },
    {
      "cell_type": "code",
      "metadata": {
        "colab": {
          "base_uri": "https://localhost:8080/",
          "height": 228
        },
        "id": "gM8fOyzMutQi",
        "outputId": "2807caf8-0244-40ba-cccb-3e37b12b8ba6"
      },
      "source": [
        "plt.figure(figsize=(10,10))\r\n",
        "for i in range(3):\r\n",
        "    plt.subplot(1,3,i+1)\r\n",
        "    plt.imshow(x_train1[i][...,0], cmap='gray')\r\n",
        "    plt.title('Class = {}'.format(y_train[i]))"
      ],
      "execution_count": 6,
      "outputs": [
        {
          "output_type": "display_data",
          "data": {
            "image/png": "[encoded data removed]",
            "text/plain": [
              "<Figure size 720x720 with 3 Axes>"
            ]
          },
          "metadata": {
            "tags": [],
            "needs_background": "light"
          }
        }
      ]
    },
    {
      "cell_type": "markdown",
      "metadata": {
        "id": "7PsuhnRmvosv"
      },
      "source": [
        "# 3. VGG Model Build"
      ]
    },
    {
      "cell_type": "code",
      "metadata": {
        "id": "SQyNwsW7vhw0"
      },
      "source": [
        "def conv_block_2d(lr_conv, lr_num, par_list):\r\n",
        "        # parameter\r\n",
        "        filter_num = par_list[0]\r\n",
        "        conv_size = par_list[1]\r\n",
        "        conv_act = par_list[2]\r\n",
        "        pool_size = par_list[3]\r\n",
        "        # code\r\n",
        "        for i in range(lr_num):\r\n",
        "            lr_conv = layers.Conv2D(filter_num, conv_size, activation=None, padding='same', \r\n",
        "                                    kernel_initializer='he_normal')(lr_conv)\r\n",
        "            lr_conv = layers.BatchNormalization(axis=-1)(lr_conv)\r\n",
        "            lr_conv = layers.Activation(conv_act)(lr_conv)\r\n",
        "        lr_pool = layers.MaxPooling2D(pool_size=pool_size)(lr_conv)\r\n",
        "        return lr_pool\r\n",
        "\r\n",
        "def output_block(lr_dense, block_num, dens_count, act_func, drop_rate):\r\n",
        "    lr_dense = layers.Flatten()(lr_dense)\r\n",
        "    for i in range(block_num):\r\n",
        "        lr_dense = layers.Dense(dens_count[i], kernel_regularizer=None,\r\n",
        "                                activation=act_func)(lr_dense)\r\n",
        "        lr_dense = layers.Dropout(drop_rate)(lr_dense)\r\n",
        "    return lr_dense"
      ],
      "execution_count": 7,
      "outputs": []
    },
    {
      "cell_type": "code",
      "metadata": {
        "id": "YQ6tQ28ZwFmO"
      },
      "source": [
        "def VGG16_2D(par_dic):\r\n",
        "    # parameters\r\n",
        "    input_size = par_dic['input_size']\r\n",
        "    conv_size = par_dic['conv_size']\r\n",
        "    conv_act = par_dic['conv_act']\r\n",
        "    pool_size = par_dic['pool_size']\r\n",
        "    dens_num = par_dic['dens_num']\r\n",
        "    dens_count = par_dic['dens_count']\r\n",
        "    dens_act = par_dic['dens_act']\r\n",
        "    drop_out = par_dic['drop_out']\r\n",
        "    output_count = par_dic['output_count']\r\n",
        "    output_act = par_dic['output_act']\r\n",
        "\r\n",
        "    # code block\r\n",
        "    inputs = Input(shape=(input_size, input_size, 1))\r\n",
        "    block1 = conv_block_2d(inputs, 2, [64, conv_size, conv_act, pool_size])\r\n",
        "    block2 = conv_block_2d(block1, 2, [128, conv_size, conv_act, pool_size])\r\n",
        "    block3 = conv_block_2d(block2, 3, [256, conv_size, conv_act, pool_size])\r\n",
        "    block4 = conv_block_2d(block3, 3, [512, conv_size, conv_act, pool_size])\r\n",
        "    block5 = conv_block_2d(block4, 3, [512, conv_size, conv_act, pool_size])\r\n",
        "    dens = output_block(block5, dens_num, dens_count, dens_act, drop_out)\r\n",
        "    outputs = layers.Dense(output_count, activation=output_act)(dens)\r\n",
        "    model = Model(inputs, outputs)\r\n",
        "    return model"
      ],
      "execution_count": 9,
      "outputs": []
    },
    {
      "cell_type": "code",
      "metadata": {
        "id": "SEKz3nqgxYQQ"
      },
      "source": [
        "def VGG19_2D(par_dic):\r\n",
        "    # parameters\r\n",
        "    input_size = par_dic['input_size']\r\n",
        "    conv_size = par_dic['conv_size']\r\n",
        "    conv_act = par_dic['conv_act']\r\n",
        "    pool_size = par_dic['pool_size']\r\n",
        "    dens_num = par_dic['dens_num']\r\n",
        "    dens_count = par_dic['dens_count']\r\n",
        "    dens_act = par_dic['dens_act']\r\n",
        "    drop_out = par_dic['drop_out']\r\n",
        "    output_count = par_dic['output_count']\r\n",
        "    output_act = par_dic['output_act']\r\n",
        "\r\n",
        "    # code block\r\n",
        "    inputs = Input(shape=(input_size, input_size, 1))\r\n",
        "    block1 = conv_block_2d(inputs, 2, [64, conv_size, conv_act, pool_size])\r\n",
        "    block2 = conv_block_2d(block1, 2, [128, conv_size, conv_act, pool_size])\r\n",
        "    block3 = conv_block_2d(block2, 4, [256, conv_size, conv_act, pool_size])\r\n",
        "    block4 = conv_block_2d(block3, 4, [512, conv_size, conv_act, pool_size])\r\n",
        "    block5 = conv_block_2d(block4, 4, [512, conv_size, conv_act, pool_size])\r\n",
        "    dens = output_block(block5, dens_num, dens_count, dens_act, drop_out)\r\n",
        "    outputs = layers.Dense(output_count, activation=output_act)(dens)\r\n",
        "    model = Model(inputs, outputs)\r\n",
        "    return model"
      ],
      "execution_count": 10,
      "outputs": []
    },
    {
      "cell_type": "code",
      "metadata": {
        "id": "94txtM58xuKS"
      },
      "source": [
        "network_param_set = {'input_size': 32,\r\n",
        "                     'conv_size': 3,\r\n",
        "                     'conv_act': 'relu',\r\n",
        "                     'pool_size': 2,\r\n",
        "                     'dens_num': 2,\r\n",
        "                     'dens_count': [1000,500],\r\n",
        "                     'dens_act': 'relu',\r\n",
        "                     'drop_out': 0.5,\r\n",
        "                     'output_count': 10,\r\n",
        "                     'output_act': 'softmax'}"
      ],
      "execution_count": 11,
      "outputs": []
    },
    {
      "cell_type": "code",
      "metadata": {
        "colab": {
          "base_uri": "https://localhost:8080/"
        },
        "id": "87IRklsi0_t0",
        "outputId": "66ee2a6c-eea6-4375-e7f8-7f32b92662a3"
      },
      "source": [
        "model = VGG19_2D(network_param_set)\r\n",
        "model.summary()"
      ],
      "execution_count": 12,
      "outputs": [
        {
          "output_type": "stream",
          "text": [
            "Model: \"model\"\n",
            "_________________________________________________________________\n",
            "Layer (type)                 Output Shape              Param #   \n",
            "=================================================================\n",
            "input_1 (InputLayer)         [(None, 32, 32, 1)]       0         \n",
            "_________________________________________________________________\n",
            "conv2d (Conv2D)              (None, 32, 32, 64)        640       \n",
            "_________________________________________________________________\n",
            "batch_normalization (BatchNo (None, 32, 32, 64)        256       \n",
            "_________________________________________________________________\n",
            "activation (Activation)      (None, 32, 32, 64)        0         \n",
            "_________________________________________________________________\n",
            "conv2d_1 (Conv2D)            (None, 32, 32, 64)        36928     \n",
            "_________________________________________________________________\n",
            "batch_normalization_1 (Batch (None, 32, 32, 64)        256       \n",
            "_________________________________________________________________\n",
            "activation_1 (Activation)    (None, 32, 32, 64)        0         \n",
            "_________________________________________________________________\n",
            "max_pooling2d (MaxPooling2D) (None, 16, 16, 64)        0         \n",
            "_________________________________________________________________\n",
            "conv2d_2 (Conv2D)            (None, 16, 16, 128)       73856     \n",
            "_________________________________________________________________\n",
            "batch_normalization_2 (Batch (None, 16, 16, 128)       512       \n",
            "_________________________________________________________________\n",
            "activation_2 (Activation)    (None, 16, 16, 128)       0         \n",
            "_________________________________________________________________\n",
            "conv2d_3 (Conv2D)            (None, 16, 16, 128)       147584    \n",
            "_________________________________________________________________\n",
            "batch_normalization_3 (Batch (None, 16, 16, 128)       512       \n",
            "_________________________________________________________________\n",
            "activation_3 (Activation)    (None, 16, 16, 128)       0         \n",
            "_________________________________________________________________\n",
            "max_pooling2d_1 (MaxPooling2 (None, 8, 8, 128)         0         \n",
            "_________________________________________________________________\n",
            "conv2d_4 (Conv2D)            (None, 8, 8, 256)         295168    \n",
            "_________________________________________________________________\n",
            "batch_normalization_4 (Batch (None, 8, 8, 256)         1024      \n",
            "_________________________________________________________________\n",
            "activation_4 (Activation)    (None, 8, 8, 256)         0         \n",
            "_________________________________________________________________\n",
            "conv2d_5 (Conv2D)            (None, 8, 8, 256)         590080    \n",
            "_________________________________________________________________\n",
            "batch_normalization_5 (Batch (None, 8, 8, 256)         1024      \n",
            "_________________________________________________________________\n",
            "activation_5 (Activation)    (None, 8, 8, 256)         0         \n",
            "_________________________________________________________________\n",
            "conv2d_6 (Conv2D)            (None, 8, 8, 256)         590080    \n",
            "_________________________________________________________________\n",
            "batch_normalization_6 (Batch (None, 8, 8, 256)         1024      \n",
            "_________________________________________________________________\n",
            "activation_6 (Activation)    (None, 8, 8, 256)         0         \n",
            "_________________________________________________________________\n",
            "conv2d_7 (Conv2D)            (None, 8, 8, 256)         590080    \n",
            "_________________________________________________________________\n",
            "batch_normalization_7 (Batch (None, 8, 8, 256)         1024      \n",
            "_________________________________________________________________\n",
            "activation_7 (Activation)    (None, 8, 8, 256)         0         \n",
            "_________________________________________________________________\n",
            "max_pooling2d_2 (MaxPooling2 (None, 4, 4, 256)         0         \n",
            "_________________________________________________________________\n",
            "conv2d_8 (Conv2D)            (None, 4, 4, 512)         1180160   \n",
            "_________________________________________________________________\n",
            "batch_normalization_8 (Batch (None, 4, 4, 512)         2048      \n",
            "_________________________________________________________________\n",
            "activation_8 (Activation)    (None, 4, 4, 512)         0         \n",
            "_________________________________________________________________\n",
            "conv2d_9 (Conv2D)            (None, 4, 4, 512)         2359808   \n",
            "_________________________________________________________________\n",
            "batch_normalization_9 (Batch (None, 4, 4, 512)         2048      \n",
            "_________________________________________________________________\n",
            "activation_9 (Activation)    (None, 4, 4, 512)         0         \n",
            "_________________________________________________________________\n",
            "conv2d_10 (Conv2D)           (None, 4, 4, 512)         2359808   \n",
            "_________________________________________________________________\n",
            "batch_normalization_10 (Batc (None, 4, 4, 512)         2048      \n",
            "_________________________________________________________________\n",
            "activation_10 (Activation)   (None, 4, 4, 512)         0         \n",
            "_________________________________________________________________\n",
            "conv2d_11 (Conv2D)           (None, 4, 4, 512)         2359808   \n",
            "_________________________________________________________________\n",
            "batch_normalization_11 (Batc (None, 4, 4, 512)         2048      \n",
            "_________________________________________________________________\n",
            "activation_11 (Activation)   (None, 4, 4, 512)         0         \n",
            "_________________________________________________________________\n",
            "max_pooling2d_3 (MaxPooling2 (None, 2, 2, 512)         0         \n",
            "_________________________________________________________________\n",
            "conv2d_12 (Conv2D)           (None, 2, 2, 512)         2359808   \n",
            "_________________________________________________________________\n",
            "batch_normalization_12 (Batc (None, 2, 2, 512)         2048      \n",
            "_________________________________________________________________\n",
            "activation_12 (Activation)   (None, 2, 2, 512)         0         \n",
            "_________________________________________________________________\n",
            "conv2d_13 (Conv2D)           (None, 2, 2, 512)         2359808   \n",
            "_________________________________________________________________\n",
            "batch_normalization_13 (Batc (None, 2, 2, 512)         2048      \n",
            "_________________________________________________________________\n",
            "activation_13 (Activation)   (None, 2, 2, 512)         0         \n",
            "_________________________________________________________________\n",
            "conv2d_14 (Conv2D)           (None, 2, 2, 512)         2359808   \n",
            "_________________________________________________________________\n",
            "batch_normalization_14 (Batc (None, 2, 2, 512)         2048      \n",
            "_________________________________________________________________\n",
            "activation_14 (Activation)   (None, 2, 2, 512)         0         \n",
            "_________________________________________________________________\n",
            "conv2d_15 (Conv2D)           (None, 2, 2, 512)         2359808   \n",
            "_________________________________________________________________\n",
            "batch_normalization_15 (Batc (None, 2, 2, 512)         2048      \n",
            "_________________________________________________________________\n",
            "activation_15 (Activation)   (None, 2, 2, 512)         0         \n",
            "_________________________________________________________________\n",
            "max_pooling2d_4 (MaxPooling2 (None, 1, 1, 512)         0         \n",
            "_________________________________________________________________\n",
            "flatten (Flatten)            (None, 512)               0         \n",
            "_________________________________________________________________\n",
            "dense (Dense)                (None, 1000)              513000    \n",
            "_________________________________________________________________\n",
            "dropout (Dropout)            (None, 1000)              0         \n",
            "_________________________________________________________________\n",
            "dense_1 (Dense)              (None, 500)               500500    \n",
            "_________________________________________________________________\n",
            "dropout_1 (Dropout)          (None, 500)               0         \n",
            "_________________________________________________________________\n",
            "dense_2 (Dense)              (None, 10)                5010      \n",
            "=================================================================\n",
            "Total params: 21,063,758\n",
            "Trainable params: 21,052,750\n",
            "Non-trainable params: 11,008\n",
            "_________________________________________________________________\n"
          ],
          "name": "stdout"
        }
      ]
    },
    {
      "cell_type": "markdown",
      "metadata": {
        "id": "pRre4jFLxoXI"
      },
      "source": [
        "# 4. MNIST Training"
      ]
    },
    {
      "cell_type": "code",
      "metadata": {
        "id": "1jhKYdmd119b"
      },
      "source": [
        "model.compile(loss=losses.CategoricalCrossentropy(), optimizer=optimizers.Adam(lr=1e-5), metrics=['accuracy'])"
      ],
      "execution_count": 13,
      "outputs": []
    },
    {
      "cell_type": "code",
      "metadata": {
        "colab": {
          "base_uri": "https://localhost:8080/"
        },
        "id": "D3tXYPUV17YC",
        "outputId": "6fb5bdb0-ef89-4558-87a4-9da5117e9118"
      },
      "source": [
        "callback_list = [keras.callbacks.EarlyStopping(monitor='val_loss', patience=15),\r\n",
        "                         keras.callbacks.ModelCheckpoint(filepath=os.path.join('model.h5'),\r\n",
        "                                                         monitor='val_loss', save_best_only=True),\r\n",
        "                         keras.callbacks.ReduceLROnPlateau(monitor='val_loss', factor=0.1, patience=10)]\r\n",
        "\r\n",
        "history = model.fit(x_train1, y_train1, epochs=50, batch_size=32, \r\n",
        "                    validation_data=(x_test1, y_test1),\r\n",
        "                    callbacks=callback_list, shuffle=True)"
      ],
      "execution_count": 14,
      "outputs": [
        {
          "output_type": "stream",
          "text": [
            "Epoch 1/50\n",
            "63/63 [==============================] - 16s 112ms/step - loss: 3.0584 - accuracy: 0.1224 - val_loss: 2.3253 - val_accuracy: 0.1000\n",
            "Epoch 2/50\n",
            "63/63 [==============================] - 5s 85ms/step - loss: 2.5760 - accuracy: 0.1702 - val_loss: 2.1800 - val_accuracy: 0.2340\n",
            "Epoch 3/50\n",
            "63/63 [==============================] - 5s 85ms/step - loss: 2.1948 - accuracy: 0.2669 - val_loss: 1.9411 - val_accuracy: 0.4020\n",
            "Epoch 4/50\n",
            "63/63 [==============================] - 5s 85ms/step - loss: 1.9742 - accuracy: 0.3185 - val_loss: 1.6402 - val_accuracy: 0.5680\n",
            "Epoch 5/50\n",
            "63/63 [==============================] - 5s 85ms/step - loss: 1.6340 - accuracy: 0.4375 - val_loss: 1.3751 - val_accuracy: 0.6680\n",
            "Epoch 6/50\n",
            "63/63 [==============================] - 5s 85ms/step - loss: 1.3528 - accuracy: 0.5228 - val_loss: 1.1570 - val_accuracy: 0.7380\n",
            "Epoch 7/50\n",
            "63/63 [==============================] - 5s 85ms/step - loss: 1.1563 - accuracy: 0.6151 - val_loss: 0.9987 - val_accuracy: 0.7460\n",
            "Epoch 8/50\n",
            "63/63 [==============================] - 5s 85ms/step - loss: 0.9552 - accuracy: 0.7114 - val_loss: 0.8328 - val_accuracy: 0.7880\n",
            "Epoch 9/50\n",
            "63/63 [==============================] - 5s 85ms/step - loss: 0.7813 - accuracy: 0.7512 - val_loss: 0.7078 - val_accuracy: 0.8200\n",
            "Epoch 10/50\n",
            "63/63 [==============================] - 5s 85ms/step - loss: 0.5925 - accuracy: 0.8391 - val_loss: 0.6192 - val_accuracy: 0.8320\n",
            "Epoch 11/50\n",
            "63/63 [==============================] - 5s 85ms/step - loss: 0.4829 - accuracy: 0.8768 - val_loss: 0.5424 - val_accuracy: 0.8440\n",
            "Epoch 12/50\n",
            "63/63 [==============================] - 5s 84ms/step - loss: 0.3990 - accuracy: 0.8939 - val_loss: 0.4865 - val_accuracy: 0.8600\n",
            "Epoch 13/50\n",
            "63/63 [==============================] - 5s 85ms/step - loss: 0.3158 - accuracy: 0.9218 - val_loss: 0.4475 - val_accuracy: 0.8620\n",
            "Epoch 14/50\n",
            "63/63 [==============================] - 5s 85ms/step - loss: 0.2472 - accuracy: 0.9455 - val_loss: 0.4114 - val_accuracy: 0.8780\n",
            "Epoch 15/50\n",
            "63/63 [==============================] - 5s 85ms/step - loss: 0.2198 - accuracy: 0.9530 - val_loss: 0.4075 - val_accuracy: 0.8760\n",
            "Epoch 16/50\n",
            "63/63 [==============================] - 5s 86ms/step - loss: 0.1394 - accuracy: 0.9741 - val_loss: 0.3790 - val_accuracy: 0.8860\n",
            "Epoch 17/50\n",
            "63/63 [==============================] - 5s 85ms/step - loss: 0.1238 - accuracy: 0.9779 - val_loss: 0.3709 - val_accuracy: 0.8860\n",
            "Epoch 18/50\n",
            "63/63 [==============================] - 5s 85ms/step - loss: 0.0953 - accuracy: 0.9832 - val_loss: 0.3579 - val_accuracy: 0.8860\n",
            "Epoch 19/50\n",
            "63/63 [==============================] - 5s 86ms/step - loss: 0.0984 - accuracy: 0.9829 - val_loss: 0.3519 - val_accuracy: 0.8920\n",
            "Epoch 20/50\n",
            "63/63 [==============================] - 5s 85ms/step - loss: 0.0718 - accuracy: 0.9925 - val_loss: 0.3329 - val_accuracy: 0.9020\n",
            "Epoch 21/50\n",
            "63/63 [==============================] - 5s 85ms/step - loss: 0.0679 - accuracy: 0.9906 - val_loss: 0.3393 - val_accuracy: 0.9000\n",
            "Epoch 22/50\n",
            "63/63 [==============================] - 5s 86ms/step - loss: 0.0596 - accuracy: 0.9872 - val_loss: 0.3304 - val_accuracy: 0.9000\n",
            "Epoch 23/50\n",
            "63/63 [==============================] - 5s 85ms/step - loss: 0.0492 - accuracy: 0.9958 - val_loss: 0.3252 - val_accuracy: 0.9020\n",
            "Epoch 24/50\n",
            "63/63 [==============================] - 5s 85ms/step - loss: 0.0353 - accuracy: 0.9966 - val_loss: 0.3316 - val_accuracy: 0.9040\n",
            "Epoch 25/50\n",
            "63/63 [==============================] - 5s 85ms/step - loss: 0.0435 - accuracy: 0.9941 - val_loss: 0.3165 - val_accuracy: 0.9000\n",
            "Epoch 26/50\n",
            "63/63 [==============================] - 5s 86ms/step - loss: 0.0384 - accuracy: 0.9964 - val_loss: 0.3165 - val_accuracy: 0.9060\n",
            "Epoch 27/50\n",
            "63/63 [==============================] - 5s 86ms/step - loss: 0.0258 - accuracy: 0.9984 - val_loss: 0.3165 - val_accuracy: 0.9020\n",
            "Epoch 28/50\n",
            "63/63 [==============================] - 5s 85ms/step - loss: 0.0224 - accuracy: 0.9992 - val_loss: 0.3146 - val_accuracy: 0.9060\n",
            "Epoch 29/50\n",
            "63/63 [==============================] - 5s 85ms/step - loss: 0.0197 - accuracy: 0.9990 - val_loss: 0.3192 - val_accuracy: 0.9000\n",
            "Epoch 30/50\n",
            "63/63 [==============================] - 5s 85ms/step - loss: 0.0248 - accuracy: 0.9977 - val_loss: 0.3184 - val_accuracy: 0.9020\n",
            "Epoch 31/50\n",
            "63/63 [==============================] - 5s 86ms/step - loss: 0.0229 - accuracy: 0.9962 - val_loss: 0.3114 - val_accuracy: 0.9080\n",
            "Epoch 32/50\n",
            "63/63 [==============================] - 5s 85ms/step - loss: 0.0256 - accuracy: 0.9943 - val_loss: 0.3105 - val_accuracy: 0.9040\n",
            "Epoch 33/50\n",
            "63/63 [==============================] - 5s 85ms/step - loss: 0.0177 - accuracy: 0.9991 - val_loss: 0.3081 - val_accuracy: 0.9020\n",
            "Epoch 34/50\n",
            "63/63 [==============================] - 5s 85ms/step - loss: 0.0150 - accuracy: 0.9976 - val_loss: 0.3117 - val_accuracy: 0.9000\n",
            "Epoch 35/50\n",
            "63/63 [==============================] - 5s 85ms/step - loss: 0.0152 - accuracy: 0.9980 - val_loss: 0.3030 - val_accuracy: 0.9080\n",
            "Epoch 36/50\n",
            "63/63 [==============================] - 5s 85ms/step - loss: 0.0115 - accuracy: 0.9995 - val_loss: 0.3003 - val_accuracy: 0.9120\n",
            "Epoch 37/50\n",
            "63/63 [==============================] - 5s 85ms/step - loss: 0.0129 - accuracy: 0.9982 - val_loss: 0.3037 - val_accuracy: 0.9080\n",
            "Epoch 38/50\n",
            "63/63 [==============================] - 5s 85ms/step - loss: 0.0116 - accuracy: 0.9991 - val_loss: 0.3060 - val_accuracy: 0.9160\n",
            "Epoch 39/50\n",
            "63/63 [==============================] - 5s 85ms/step - loss: 0.0078 - accuracy: 0.9999 - val_loss: 0.3157 - val_accuracy: 0.9160\n",
            "Epoch 40/50\n",
            "63/63 [==============================] - 5s 86ms/step - loss: 0.0111 - accuracy: 0.9979 - val_loss: 0.3128 - val_accuracy: 0.9120\n",
            "Epoch 41/50\n",
            "63/63 [==============================] - 5s 85ms/step - loss: 0.0090 - accuracy: 1.0000 - val_loss: 0.3114 - val_accuracy: 0.9120\n",
            "Epoch 42/50\n",
            "63/63 [==============================] - 5s 85ms/step - loss: 0.0087 - accuracy: 1.0000 - val_loss: 0.3094 - val_accuracy: 0.9120\n",
            "Epoch 43/50\n",
            "63/63 [==============================] - 5s 85ms/step - loss: 0.0073 - accuracy: 0.9994 - val_loss: 0.3191 - val_accuracy: 0.9100\n",
            "Epoch 44/50\n",
            "63/63 [==============================] - 5s 85ms/step - loss: 0.0064 - accuracy: 0.9995 - val_loss: 0.3144 - val_accuracy: 0.9140\n",
            "Epoch 45/50\n",
            "63/63 [==============================] - 5s 85ms/step - loss: 0.0057 - accuracy: 1.0000 - val_loss: 0.3187 - val_accuracy: 0.9060\n",
            "Epoch 46/50\n",
            "63/63 [==============================] - 5s 85ms/step - loss: 0.0059 - accuracy: 0.9994 - val_loss: 0.3232 - val_accuracy: 0.9140\n",
            "Epoch 47/50\n",
            "63/63 [==============================] - 5s 85ms/step - loss: 0.0095 - accuracy: 0.9976 - val_loss: 0.3221 - val_accuracy: 0.9140\n",
            "Epoch 48/50\n",
            "63/63 [==============================] - 5s 85ms/step - loss: 0.0095 - accuracy: 0.9977 - val_loss: 0.3210 - val_accuracy: 0.9120\n",
            "Epoch 49/50\n",
            "63/63 [==============================] - 5s 85ms/step - loss: 0.0049 - accuracy: 0.9996 - val_loss: 0.3215 - val_accuracy: 0.9120\n",
            "Epoch 50/50\n",
            "63/63 [==============================] - 5s 85ms/step - loss: 0.0048 - accuracy: 1.0000 - val_loss: 0.3224 - val_accuracy: 0.9140\n"
          ],
          "name": "stdout"
        }
      ]
    }
  ]
}